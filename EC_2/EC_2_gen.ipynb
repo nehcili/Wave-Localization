{
 "cells": [
  {
   "cell_type": "markdown",
   "metadata": {},
   "source": [
    "# BoxCounter\n",
    "## 1. Goal\n",
    "Generate Data to train for BoxCounter (in DOS_2_BoxCounter)"
   ]
  },
  {
   "cell_type": "markdown",
   "metadata": {},
   "source": [
    "## 2. Import neccessary libraries"
   ]
  },
  {
   "cell_type": "code",
   "execution_count": 1,
   "metadata": {},
   "outputs": [],
   "source": [
    "from __future__ import absolute_import, division, print_function, unicode_literals\n",
    "import numpy as np\n",
    "from randDistri import V_GEN\n",
    "\n",
    "# eigenvalue solver\n",
    "from petsc4py import PETSc\n",
    "from slepc4py import SLEPc\n",
    "\n",
    "# Plot\n",
    "from matplotlib import pylab\n",
    "\n",
    "# I/O \n",
    "from numpy import savetxt, loadtxt"
   ]
  },
  {
   "cell_type": "markdown",
   "metadata": {},
   "source": [
    "## 3. Setting constants"
   ]
  },
  {
   "cell_type": "code",
   "execution_count": 2,
   "metadata": {},
   "outputs": [],
   "source": [
    "TEST = False\n",
    "\n",
    "if TEST:\n",
    "    BOXLENGTH = 100\n",
    "    DATA_SIZE = 70 # train size, test size = DATA_SIZE//10\n",
    "    NEV = 20\n",
    "    PATH='test_data/'\n",
    "    FILE_NAME = 't'\n",
    "else:\n",
    "    BOXLENGTH = 1000\n",
    "    DATA_SIZE = 200 # train size, test size = DATA_SIZE//10\n",
    "    NEV = 100\n",
    "    PATH='data/'\n",
    "    FILE_NAME = 'dos7'\n",
    "\n",
    "NAMES = ['dos', 'evs', 'W-evs', 'W', 'W-1', 'W-2', 'DW2', 'W-1DW2', 'W-2DW2', 'V-W', 'WxV-W', 'W2xV-W']\n",
    "README = 'BOXLENGTH,DATA_SIZE,NEV\\n'+','.join(map(str, [BOXLENGTH, DATA_SIZE, NEV]))"
   ]
  },
  {
   "cell_type": "markdown",
   "metadata": {},
   "source": [
    "## 4. Obtaining training/testing data"
   ]
  },
  {
   "cell_type": "markdown",
   "metadata": {},
   "source": [
    "## Getting the eigenvalues and the landscape function"
   ]
  },
  {
   "cell_type": "code",
   "execution_count": 3,
   "metadata": {},
   "outputs": [],
   "source": [
    "class DOS_data_generator():\n",
    "    # self, list of int, method, int/None, int/None, bool\n",
    "    def __init__(self, size, nev=NEV, V_gen=None, max_it=None, tol=None, periodic=True):\n",
    "        self.max_it = max_it\n",
    "        self.tol=tol\n",
    "        self.periodic = True\n",
    "        self.nev = nev\n",
    "        \n",
    "        self.V_gen = V_gen\n",
    "        if V_gen==None:\n",
    "            self.V_gen = np.random.rand\n",
    "            \n",
    "        \n",
    "        if type(size) == int:\n",
    "            self.size = [1,size]\n",
    "        else:\n",
    "            self.size = size\n",
    "            \n",
    "        self.one = PETSc.Vec().createSeq(self.size[1]) \n",
    "        self.one[:] = np.ones(self.size[1])\n",
    "        \n",
    "    # self, method --> PETSc Mat\n",
    "    # Makeing a periodic problem Hamiltonian -\\Delta+V\n",
    "    def make_Hamiltonian(self, V):\n",
    "        n = self.size[1]\n",
    "        A = PETSc.Mat().create()\n",
    "        A.setSizes([n, n])\n",
    "        A.setUp()\n",
    "\n",
    "        rstart, rend = A.getOwnershipRange()\n",
    "\n",
    "        # first row\n",
    "        if rstart == 0:\n",
    "            A[0, :2] = [2, -1]\n",
    "            rstart += 1\n",
    "        # last row\n",
    "        if rend == n:\n",
    "            A[n-1, -2:] = [-1, 2]\n",
    "            rend -= 1\n",
    "        # other rows\n",
    "        for i in range(rstart, rend):\n",
    "            A[i, i-1:i+2] = [-1, 2+V[i], -1]\n",
    "        # Periodic condition\n",
    "        if self.periodic:\n",
    "            A[rstart,rend-1] = -1\n",
    "            A[rend-1, rstart] = -1\n",
    "\n",
    "        A.assemble()\n",
    "\n",
    "        return A\n",
    "\n",
    "    # self, PETSc Mat --> np array of first nev eigenvalues\n",
    "    # compute the ground state eigenvalue\n",
    "    # return -1 if numerical solver is divergent\n",
    "    def compute_evs(self, Hamiltonian, nev):\n",
    "        E = SLEPc.EPS()\n",
    "        E.create()\n",
    "\n",
    "        E.setOperators(Hamiltonian)\n",
    "        E.setProblemType(SLEPc.EPS.ProblemType.HEP)\n",
    "        E.setTolerances(tol=self.tol, max_it=self.max_it)\n",
    "        E.setWhichEigenpairs(E.Which.SMALLEST_REAL)\n",
    "        E.setDimensions(nev=nev)\n",
    "\n",
    "        E.solve()\n",
    "        \n",
    "        nconv = E.getConverged()\n",
    "        #nconv = 34\n",
    "        if nconv < nev:\n",
    "            raise ValueError(\"Eigevanlue solver did not convergence for {} eigenvalue(s)\".format(nev-nconv))\n",
    "        \n",
    "        res = np.empty(nev, dtype=np.float32)\n",
    "        for i in range(nev):\n",
    "            res[i] = E.getEigenvalue(i).real*(1-E.computeError(i)) # gives upper bound\n",
    "        \n",
    "        return res\n",
    "    \n",
    "    \n",
    "    # self, PETSc.Mat, bool --> PETSc.Vec\n",
    "    # use PETSc.Vec.getArray() to convert result to np.ndarray\n",
    "    def compute_landscape(self, Hamiltonian, show=False):        \n",
    "        # Create solution landscape function u\n",
    "        u = PETSc.Vec().createSeq(self.size[1])\n",
    "        \n",
    "        # Initialize ksp solver.\n",
    "        ksp = PETSc.KSP().create()\n",
    "        ksp.setOperators(Hamiltonian)\n",
    "        \n",
    "        # Solve!\n",
    "        ksp.solve(self.one, u)\n",
    "\n",
    "        # # Use this to plot the solution (should look like a sinusoid).\n",
    "        if show:\n",
    "            pylab.plot(u.getArray())\n",
    "            pylab.show()\n",
    "            \n",
    "        return u   \n",
    "    \n",
    "    \n",
    "    # self, method --> np.ndarray, np.ndarray, np.ndarray\n",
    "    # return shape: \n",
    "    # evs: data_size x nev\n",
    "    # u: data_size x boxlength\n",
    "    # V: data_size x boxlength\n",
    "    # nev: int\n",
    "    def data_gen(self, V_gen=None, nev=None):\n",
    "        if V_gen == None:\n",
    "            V_gen = self.V_gen\n",
    "        if nev == None:\n",
    "            nev = self.nev\n",
    "        \n",
    "        self.V = V_gen(*self.size)\n",
    "        #print(self.V)\n",
    "        self.W = np.empty(self.size, dtype=np.float32)\n",
    "        self.evs = np.empty([self.size[0], nev], dtype=np.float32)\n",
    "        \n",
    "        \n",
    "        \n",
    "        for i in range(self.size[0]):\n",
    "            Hamiltonian = self.make_Hamiltonian(self.V[i])\n",
    "            self.W[i] = 1/self.compute_landscape(Hamiltonian).getArray()\n",
    "            self.evs[i] = np.maximum(self.compute_evs(Hamiltonian, nev), np.min(self.W[i]))\n",
    "            \n",
    "    \n",
    "            \n",
    "        return self.evs, self.W, self.V.astype(np.float32), nev"
   ]
  },
  {
   "cell_type": "markdown",
   "metadata": {},
   "source": [
    "### Example Data Generation"
   ]
  },
  {
   "cell_type": "code",
   "execution_count": 4,
   "metadata": {},
   "outputs": [],
   "source": [
    "if TEST:\n",
    "    DOS = DOS_data_generator([2,100], nev=10, V_gen=V_GEN)\n",
    "    evs0, W0, V0, nev0 = DOS.data_gen()\n",
    "    print(evs0.shape, W0.shape, V0.shape)\n",
    "    print(\"Setting: discrete 1d integer lattice of size\", BOXLENGTH)\n",
    "    print(\"List of fist {} eigenvalues:\\n\".format(10), evs0)\n",
    "    print(\"Example of the landscape potential W (orange) and V (blue):\")\n",
    "\n",
    "    pylab.plot(V0[0])\n",
    "    pylab.plot(W0[0])\n",
    "    pylab.show()"
   ]
  },
  {
   "cell_type": "markdown",
   "metadata": {},
   "source": [
    "### Generates data"
   ]
  },
  {
   "cell_type": "code",
   "execution_count": 5,
   "metadata": {},
   "outputs": [],
   "source": [
    "# int, int, method --> tf.Tensor, tf.Tensor, tf.Tensor, tf.Tensor\n",
    "# generates:\n",
    "# dos: (data_size x nev) x 1\n",
    "# evs: (data_size x nev) x 1\n",
    "# 1/u, V: (data_size x nev) x boxlength x 1\n",
    "def _gen_data(data_size=DATA_SIZE, boxlength = BOXLENGTH, nev=NEV, V_gen=None):\n",
    "    # error checking\n",
    "    if data_size < 1:\n",
    "        data_size = 1\n",
    "        \n",
    "    data_generator = DOS_data_generator([data_size, boxlength], nev=nev, V_gen=V_gen)\n",
    "    evs, W, V, nev = data_generator.data_gen()\n",
    "    \n",
    "    zeros = np.zeros([data_size, nev, boxlength], dtype=np.float32)\n",
    "    W = W[:, np.newaxis,:] + zeros\n",
    "    W = np.concatenate(W, axis=0)\n",
    "    V = V[:, np.newaxis,:] + zeros\n",
    "    V = np.concatenate(V, axis=0)\n",
    "    \n",
    "    # (make data_size x nev) length np.array\n",
    "    evs = np.concatenate(evs)\n",
    "    evs = evs[..., np.newaxis]\n",
    "    \n",
    "    # make DOS target\n",
    "    dos = np.array(range(1,nev+1), dtype=np.float32)\n",
    "    dos = np.concatenate(dos+np.zeros([data_size, nev], dtype=np.float32), axis=0)\n",
    "    \n",
    "    #DW\n",
    "    WT = W.T\n",
    "    DW = WT[1:]-WT[:-1]\n",
    "    DW = np.append(DW, [-W.T[-1]], 0)\n",
    "    DW = DW.T\n",
    "    \n",
    "    return dos, evs, W-evs, W, W**(-1), W**(-2), DW**2, DW**2/W, DW**2/W**2, V-W, (V-W)/W, (V-W)/W**2 \n",
    "    #, np.concatenate([W,V], axis=2)\n",
    "\n",
    "# output is a pair, each of the format: ev, u, V, uV   \n",
    "def gen_data(data_size=DATA_SIZE, nev=NEV, boxlength = BOXLENGTH, V_gen=None):\n",
    "    train = _gen_data(data_size=data_size, nev=nev, boxlength=boxlength, V_gen=V_gen)\n",
    "    test = _gen_data(data_size=data_size//10, nev=nev, boxlength=boxlength, V_gen=V_gen)\n",
    "    \n",
    "    return train, test"
   ]
  },
  {
   "cell_type": "code",
   "execution_count": 6,
   "metadata": {
    "scrolled": false
   },
   "outputs": [],
   "source": [
    "#train_ds, test_ds = gen_data(data_size=3, nev=2, boxlength=13) #test_ds \n",
    "#test_ds"
   ]
  },
  {
   "cell_type": "markdown",
   "metadata": {},
   "source": [
    "### Saving/Loading"
   ]
  },
  {
   "cell_type": "code",
   "execution_count": 7,
   "metadata": {},
   "outputs": [],
   "source": [
    "def save_data(train, test, names=NAMES, path=PATH, file_name=FILE_NAME, readme=README):\n",
    "    with open(path+file_name+'_params.txt', 'w') as f:\n",
    "        f.write(readme)\n",
    "    \n",
    "    for i in range(len(names)):\n",
    "        savetxt(path + file_name + '_train_' + names[i] + '.cvs', train[i], delimiter=',')\n",
    "        savetxt(path + file_name + '_test_' + names[i] + '.cvs', test[i], delimiter=',')\n",
    "    \n",
    "def load(names=NAMES, path=PATH, file_name=FILE_NAME):\n",
    "    train, test= [], []\n",
    "    for i in range(len(names)):\n",
    "        train.append(loadtxt(path + file_name + '_train_' + names[i] + '.cvs', delimiter=','))\n",
    "        test.append(loadtxt(path + file_name + '_test_' + names[i] + '.cvs', delimiter=','))\n",
    "    \n",
    "    return train, test\n",
    "\n",
    "def gen_data_save(names=NAMES, data_size=DATA_SIZE, nev=NEV, boxlength = BOXLENGTH, V_gen=None, \\\n",
    "                path=PATH, file_name=FILE_NAME, readme=README):\n",
    "    train, test = gen_data(data_size=data_size, nev=nev, boxlength = boxlength, V_gen=None)\n",
    "    save_data(train, test, names=names, path=path, file_name=file_name, readme=readme)\n",
    "    "
   ]
  },
  {
   "cell_type": "code",
   "execution_count": 8,
   "metadata": {},
   "outputs": [],
   "source": [
    "gen_data_save()"
   ]
  },
  {
   "cell_type": "code",
   "execution_count": null,
   "metadata": {},
   "outputs": [],
   "source": []
  }
 ],
 "metadata": {
  "kernelspec": {
   "display_name": "Python 3",
   "language": "python",
   "name": "python3"
  },
  "language_info": {
   "codemirror_mode": {
    "name": "ipython",
    "version": 3
   },
   "file_extension": ".py",
   "mimetype": "text/x-python",
   "name": "python",
   "nbconvert_exporter": "python",
   "pygments_lexer": "ipython3",
   "version": "3.7.5"
  }
 },
 "nbformat": 4,
 "nbformat_minor": 2
}

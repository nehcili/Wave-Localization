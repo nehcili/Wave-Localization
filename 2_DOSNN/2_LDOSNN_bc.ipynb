{
 "cells": [
  {
   "cell_type": "markdown",
   "metadata": {},
   "source": [
    "# Landscape DOS Neural Net for Box Counting\n",
    "## 1. Goal\n",
    "### Backgound\n",
    "This is a proof of concept project to construct construct $C_1$ and $C_2$ such that $N_{\\rm bc}(E)$ best fits the true density of states (DOS) $N(E)$.\n",
    "\n",
    "More precisely,\n",
    "- Given a potential $V$ on $L^2(Q_L)$ where $Q_L = [0, L] \\cap \\mathbb{Z}$ with periodic boundary condition\n",
    "- Find the DOS, $N(E)$, of the Schrodinger Hamiltonian $-\\Delta+V$ where $-\\Delta$ is the discrite Laplacian on $\\mathbb{Z}$.\n",
    "\n",
    "\n",
    "### Architecture\n",
    "The architecture of the neural net (NN) is very simple:\n",
    "1. 3 layers of CNN + batch normalization + relu\n",
    "2. 3 dense layers + relu\n",
    "As before, the inputs are some combinations of $V$, $u$, $W$. The loss function is\n",
    "$$\n",
    "    l(C_1 N_{\\rm bc}(C_2 E) - N(E))\n",
    "$$\n",
    "where $l$ is a simpler loss function such as mean square.\n",
    "\n",
    "\n",
    "\n",
    "\n"
   ]
  },
  {
   "cell_type": "markdown",
   "metadata": {},
   "source": [
    "## 2. Import neccessary libraries"
   ]
  },
  {
   "cell_type": "code",
   "execution_count": 1,
   "metadata": {},
   "outputs": [],
   "source": [
    "from __future__ import absolute_import, division, print_function, unicode_literals\n",
    "import numpy as np\n",
    "\n",
    "# tensorflow\n",
    "import tensorflow as tf\n",
    "from tensorflow.keras import layers, Model\n",
    "\n",
    "# eigenvalue solver\n",
    "from petsc4py import PETSc\n",
    "from slepc4py import SLEPc\n",
    "\n",
    "# Plot\n",
    "from matplotlib import pylab\n",
    "\n"
   ]
  },
  {
   "cell_type": "markdown",
   "metadata": {},
   "source": [
    "## 3. Setting constants"
   ]
  },
  {
   "cell_type": "code",
   "execution_count": 2,
   "metadata": {},
   "outputs": [],
   "source": [
    "BOXLENGTH = 1000\n",
    "KERNEL_SIZE = 10\n",
    "STRIDES = 10\n",
    "DATA_SIZE = 200\n",
    "BATCH_SIZE = 32\n",
    "EPOCHS = 20\n",
    "V_GEN = lambda x, y : 4.0*np.random.randint(0,2,[x,y]) # random potential: x = batch size, y = boxlength.\n",
    "CONV_CONST = np.pi**2/8\n",
    "NEV = 15\n",
    "EPSILON = np.finfo(np.float32).tiny"
   ]
  },
  {
   "cell_type": "markdown",
   "metadata": {},
   "source": [
    "## 4. Obtaining training/testing data"
   ]
  },
  {
   "cell_type": "markdown",
   "metadata": {},
   "source": [
    "## Getting the eigenvalues and the landscape function"
   ]
  },
  {
   "cell_type": "code",
   "execution_count": 3,
   "metadata": {},
   "outputs": [],
   "source": [
    "class DOS_data_generator():\n",
    "    # self, list of int, method, int/None, int/None, bool\n",
    "    def __init__(self, size, nev=NEV, V_gen=None, max_it=None, tol=None, periodic=True):\n",
    "        self.max_it = max_it\n",
    "        self.tol=tol\n",
    "        self.periodic = True\n",
    "        self.nev = nev\n",
    "        \n",
    "        self.V_gen = V_gen\n",
    "        if V_gen==None:\n",
    "            self.V_gen = np.random.rand\n",
    "            \n",
    "        \n",
    "        if type(size) == int:\n",
    "            self.size = [1,size]\n",
    "        else:\n",
    "            self.size = size\n",
    "            \n",
    "        self.one = PETSc.Vec().createSeq(self.size[1]) \n",
    "        self.one[:] = np.ones(self.size[1])\n",
    "        \n",
    "    # self, method --> PETSc Mat\n",
    "    # Makeing a periodic problem Hamiltonian -\\Delta+V\n",
    "    def make_Hamiltonian(self, V):\n",
    "        n = self.size[1]\n",
    "        A = PETSc.Mat().create()\n",
    "        A.setSizes([n, n])\n",
    "        A.setUp()\n",
    "\n",
    "        rstart, rend = A.getOwnershipRange()\n",
    "\n",
    "        # first row\n",
    "        if rstart == 0:\n",
    "            A[0, :2] = [2, -1]\n",
    "            rstart += 1\n",
    "        # last row\n",
    "        if rend == n:\n",
    "            A[n-1, -2:] = [-1, 2]\n",
    "            rend -= 1\n",
    "        # other rows\n",
    "        for i in range(rstart, rend):\n",
    "            A[i, i-1:i+2] = [-1, 2+V[i], -1]\n",
    "        # Periodic condition\n",
    "        if self.periodic:\n",
    "            A[rstart,rend-1] = -1\n",
    "            A[rend-1, rstart] = -1\n",
    "\n",
    "        A.assemble()\n",
    "\n",
    "        return A\n",
    "\n",
    "    # self, PETSc Mat --> np array of first nev eigenvalues\n",
    "    # compute the ground state eigenvalue\n",
    "    # return -1 if numerical solver is divergent\n",
    "    def compute_evs(self, Hamiltonian, nev):\n",
    "        E = SLEPc.EPS()\n",
    "        E.create()\n",
    "\n",
    "        E.setOperators(Hamiltonian)\n",
    "        E.setProblemType(SLEPc.EPS.ProblemType.HEP)\n",
    "        E.setTolerances(tol=self.tol, max_it=self.max_it)\n",
    "        E.setWhichEigenpairs(E.Which.SMALLEST_REAL)\n",
    "        E.setDimensions(nev=nev)\n",
    "\n",
    "        E.solve()\n",
    "        \n",
    "        nconv = E.getConverged()\n",
    "        #nconv = 34\n",
    "        if nconv < nev:\n",
    "            raise ValueError(\"Eigevanlue solver did not convergence for {} eigenvalue(s)\".format(nev-nconv))\n",
    "        \n",
    "        res = np.empty(nev, dtype=np.float32)\n",
    "        for i in range(nev):\n",
    "            res[i] = E.getEigenvalue(i).real*(1-E.computeError(i)) # gives upper bound\n",
    "        \n",
    "        return res\n",
    "    \n",
    "    \n",
    "    # self, PETSc.Mat, bool --> PETSc.Vec\n",
    "    # use PETSc.Vec.getArray() to convert result to np.ndarray\n",
    "    def compute_landscape(self, Hamiltonian, show=False):        \n",
    "        # Create solution landscape function u\n",
    "        u = PETSc.Vec().createSeq(self.size[1])\n",
    "        \n",
    "        # Initialize ksp solver.\n",
    "        ksp = PETSc.KSP().create()\n",
    "        ksp.setOperators(Hamiltonian)\n",
    "        \n",
    "        # Solve!\n",
    "        ksp.solve(self.one, u)\n",
    "\n",
    "        # # Use this to plot the solution (should look like a sinusoid).\n",
    "        if show:\n",
    "            pylab.plot(u.getArray())\n",
    "            pylab.show()\n",
    "            \n",
    "        return u   \n",
    "    \n",
    "    \n",
    "    # self, method --> np.ndarray, np.ndarray, np.ndarray\n",
    "    # return shape: \n",
    "    # evs: data_size x nev\n",
    "    # u: data_size x boxlength\n",
    "    # V: data_size x boxlength\n",
    "    # nev: int\n",
    "    def data_gen(self, V_gen=None, nev=None):\n",
    "        if V_gen == None:\n",
    "            V_gen = self.V_gen\n",
    "        if nev == None:\n",
    "            nev = self.nev\n",
    "        \n",
    "        self.V = V_gen(*self.size)\n",
    "        #print(self.V)\n",
    "        self.u = np.empty(self.size, dtype=np.float32)\n",
    "        self.evs = np.empty([self.size[0], nev], dtype=np.float32)\n",
    "        \n",
    "        \n",
    "        \n",
    "        for i in range(self.size[0]):\n",
    "            Hamiltonian = self.make_Hamiltonian(self.V[i])\n",
    "            self.evs[i] = self.compute_evs(Hamiltonian, nev)\n",
    "            self.u[i] = self.compute_landscape(Hamiltonian).getArray()\n",
    "    \n",
    "            \n",
    "        return self.evs, self.u, self.V.astype(np.float32), nev"
   ]
  },
  {
   "cell_type": "markdown",
   "metadata": {},
   "source": [
    "### Example Data Generation"
   ]
  },
  {
   "cell_type": "code",
   "execution_count": 4,
   "metadata": {},
   "outputs": [
    {
     "name": "stdout",
     "output_type": "stream",
     "text": [
      "(2, 10) (2, 100) (2, 100)\n",
      "Setting: discrete 1d integer lattice of size 100.\n",
      "List of fist 10 eigenvalues:\n",
      " [[-0.07155646  0.13784903  0.31824866  0.32568553  0.32572114  0.3283143\n",
      "   0.32844546  0.53390545  0.7087651   0.7139378 ]\n",
      " [ 0.02244142  0.1372368   0.32306436  0.32559687  0.3283127   0.5306174\n",
      "   0.7648302   0.7652871   0.7811664   0.7984403 ]]\n",
      "Example of the landscape potential W (orange) and V (blue):\n"
     ]
    },
    {
     "data": {
      "image/png": "[encoded data removed]",
      "text/plain": [
       "<Figure size 432x288 with 1 Axes>"
      ]
     },
     "metadata": {
      "needs_background": "light"
     },
     "output_type": "display_data"
    }
   ],
   "source": [
    "DOS = DOS_data_generator([2,100], nev=10, V_gen=V_GEN)\n",
    "evs0, u0, V0, nev0 = DOS.data_gen()\n",
    "print(evs0.shape, u0.shape, V0.shape)\n",
    "print(\"Setting: discrete 1d integer lattice of size 100.\")\n",
    "print(\"List of fist {} eigenvalues:\\n\".format(10), evs0)\n",
    "print(\"Example of the landscape potential W (orange) and V (blue):\")\n",
    "\n",
    "pylab.plot(V0[0])\n",
    "pylab.plot(1/u0[0])\n",
    "pylab.show()"
   ]
  },
  {
   "cell_type": "code",
   "execution_count": 5,
   "metadata": {},
   "outputs": [],
   "source": [
    "# int, int, method --> tf.Tensor, tf.Tensor, tf.Tensor, tf.Tensor\n",
    "# generates:\n",
    "# dos: (data_size x nev) x 1\n",
    "# evs: (data_size x nev) x 2\n",
    "# 1/u, V: (data_size x nev) x boxlength x 1\n",
    "def _gen_data(data_size=DATA_SIZE, boxlength = BOXLENGTH, nev=NEV, V_gen=None):\n",
    "    data_generator = DOS_data_generator([data_size, boxlength], nev=nev, V_gen=V_gen)\n",
    "    evs, u, V, nev = data_generator.data_gen()\n",
    "    \n",
    "    #print(evs, u, V, nev)\n",
    "    # make input by forming nev number of rows for each row in u/V for accommodate the nev eigenvalue/nth \n",
    "    # eigenvalue pair\n",
    "    # shape at the end of this bloc is\n",
    "    # (make data_size x nev) by boxlength\n",
    "    zeros = np.zeros([data_size, nev, boxlength], dtype=np.float32)\n",
    "    u = u[:, np.newaxis,:] + zeros\n",
    "    u = np.concatenate(u, axis=0)\n",
    "    V = V[:, np.newaxis,:] + zeros\n",
    "    V = np.concatenate(V, axis=0)\n",
    "    \n",
    "    # (make data_size x nev) length np.array\n",
    "    evs = np.concatenate(evs)\n",
    "    evs = evs[..., np.newaxis]\n",
    "    \n",
    "    # make DOS target\n",
    "    dos = np.array(range(1,nev+1), dtype=np.float32)\n",
    "    dos = np.concatenate(dos+np.zeros([data_size, nev], dtype=np.float32), axis=0)\n",
    "    dos = dos[..., np.newaxis]\n",
    "    \n",
    "    #print(\"\")\n",
    "    #print(u.shape, V.shape, evs.shape, dos.shape)\n",
    "    #print(\"\")\n",
    "    #print(evs, u, V, dos)\n",
    "    #return\n",
    "    #evs = tf.concat([evs, 1/np.sqrt(evs)], axis=1)\n",
    "    #u = tf.convert_to_tensor(u,np.float32)[..., tf.newaxis]\n",
    "    #V = tf.convert_to_tensor(V,np.float32)[..., tf.newaxis]\n",
    "    #dos = tf.convert_to_tensor(dos,np.float32)\n",
    "    \n",
    "    evs = np.concatenate([evs, 1/np.sqrt(EPSILON+np.maximum(evs, 0.0))], axis=1)\n",
    "    u = u[..., np.newaxis]\n",
    "    V = V[..., np.newaxis]\n",
    "    #rint(dos.shape, evs.shape, u.shape, V.shape)\n",
    "    \n",
    "    return dos, evs, 1/u, V, #np.concatenate([u,V], axis=2)\n",
    "\n",
    "# output is a pair, each of the format: ev, u, V, uV   \n",
    "def gen_data(data_size=DATA_SIZE, nev=NEV, boxlength = BOXLENGTH, batch_size=BATCH_SIZE, V_gen=None):\n",
    "    train_ = _gen_data(data_size=data_size*10, nev=nev, boxlength=boxlength, V_gen=V_gen)\n",
    "    test_ = _gen_data(data_size=data_size, nev=nev, boxlength=boxlength, V_gen=V_gen)\n",
    "    \n",
    "    \n",
    "    train_ds, test_ds = [], []\n",
    "    for i in range(2):\n",
    "        train_ds.append(tf.data.Dataset.from_tensor_slices((train_[i+2], train_[1], train_[0])).shuffle(10*data_size).batch(batch_size))\n",
    "        test_ds.append(tf.data.Dataset.from_tensor_slices((test_[i+2], test_[1], test_[0])).batch(batch_size))\n",
    "    \n",
    "    return train_ds, test_ds"
   ]
  },
  {
   "cell_type": "code",
   "execution_count": 6,
   "metadata": {
    "scrolled": false
   },
   "outputs": [
    {
     "data": {
      "text/plain": [
       "[<BatchDataset shapes: ((None, 5, 1), (None, 2), (None, 1)), types: (tf.float32, tf.float32, tf.float32)>,\n",
       " <BatchDataset shapes: ((None, 5, 1), (None, 2), (None, 1)), types: (tf.float32, tf.float32, tf.float32)>]"
      ]
     },
     "execution_count": 6,
     "metadata": {},
     "output_type": "execute_result"
    }
   ],
   "source": [
    "train_ds, test_ds = gen_data(data_size=2, nev=3, boxlength=5)\n",
    "train_ds"
   ]
  },
  {
   "cell_type": "markdown",
   "metadata": {},
   "source": [
    "## 5. Box Counting"
   ]
  },
  {
   "cell_type": "code",
   "execution_count": 7,
   "metadata": {},
   "outputs": [],
   "source": [
    "# input:\n",
    "# potential: boxlength array x 1\n",
    "# ev: tf scalar\n",
    "# output = tf scalar\n",
    "def box_count(potential, ev):\n",
    "    ksize = int(tf.math.ceil(1/tf.math.sqrt(ev)))\n",
    "    #ksize = ksize[..., tf.newaxis]\n",
    "    #ksize = 3\n",
    "    #potential = potential[tf.newaxis, ...]\n",
    "    #print(ksize.shape)\n",
    "    potential = ev-tf.squeeze(potential)\n",
    "    \n",
    "    if ksize < 2:\n",
    "        count = tf.cast((tf.math.reduce_max(potential) > 0), dtype=np.float32)\n",
    "        \n",
    "    else:\n",
    "        count = 0.0\n",
    "        for i in range(0,potential.shape[0],ksize):\n",
    "            if tf.math.reduce_max(potential[i:i+ksize]) > 0:\n",
    "                count += 1\n",
    "        #print(ksize)\n",
    "        #print(ev.shape, potential.shape)\n",
    "        #print((ev+potential).shape)\n",
    "        #print(ksize.shape)\n",
    "        #count = tf.nn.max_pool1d(ev-potential, ksize, ksize, padding='SAME') > 0\n",
    "    \n",
    "    #print(count.dtype)\n",
    "    #print(count)\n",
    "    #print(potential.shape)\n",
    "    return tf.cast(count, dtype=np.float32)\n",
    "    "
   ]
  },
  {
   "cell_type": "code",
   "execution_count": 8,
   "metadata": {},
   "outputs": [
    {
     "data": {
      "text/plain": [
       "<tf.Tensor: id=450, shape=(), dtype=float32, numpy=34.0>"
      ]
     },
     "execution_count": 8,
     "metadata": {},
     "output_type": "execute_result"
    }
   ],
   "source": [
    "W0 = 1/u0[0][..., np.newaxis]\n",
    "ev0 = evs0[0,0] #\n",
    "#print(W0.shape, ev0)\n",
    "box_count(W0, 0.9)"
   ]
  },
  {
   "cell_type": "markdown",
   "metadata": {},
   "source": [
    "## 6. CNN+fc model"
   ]
  },
  {
   "cell_type": "code",
   "execution_count": 9,
   "metadata": {},
   "outputs": [],
   "source": [
    "class DOSNN(Model):\n",
    "    def __init__(self, boxlength=BOXLENGTH, kernel_size=KERNEL_SIZE, strides=STRIDES, input_channel=1, model_name=''):\n",
    "        super(DOSNN, self).__init__(name='')\n",
    "        self.model_name = model_name\n",
    "        \n",
    "        # input B x 1000 x input_channel -> output B x 100 x 25\n",
    "        self.conv1a = layers.Conv1D(25, kernel_size, strides=strides, input_shape=(None, boxlength, input_channel))\n",
    "        self.bn1a = layers.BatchNormalization()\n",
    "\n",
    "        # input B x 100 x 25 -> output B x 10 x 50 \n",
    "        self.conv1b = layers.Conv1D(50, kernel_size, strides=strides)\n",
    "        self.bn1b = layers.BatchNormalization()\n",
    "\n",
    "        # input B x 10 x 50  -> output B x 1 x 75\n",
    "        self.conv1c = layers.Conv1D(75, kernel_size, strides=strides)\n",
    "        self.bn1c = layers.BatchNormalization()\n",
    "        \n",
    "        # dense layers for predictions by landscape \n",
    "        #self.ufc1 = layers.Dense(5, activation='tanh')\n",
    "        #self.ufc2 = layers.Dense(5, activation='tanh')\n",
    "        \n",
    "        # dense layers for concatenated call(umax/pi^2*8) + CNN output\n",
    "        self.fc1 = layers.Dense(50, activation='tanh')\n",
    "        self.fc2 = layers.Dense(20, activation='tanh')\n",
    "        self.fc3 = layers.Dense(2, activation='softplus')    \n",
    "        \n",
    "\n",
    "    # x = potential\n",
    "    # tp = target prediction by the landscape potential\n",
    "    def call(self, x, ev, training=False):\n",
    "        # x has size Batch x BOXLENGTH x channel (==1)\n",
    "        potential = x\n",
    "        \n",
    "        # input B x 1000 x 2 -> output B x 100 x 25\n",
    "        x = self.conv1a(x)\n",
    "        x = self.bn1a(x)\n",
    "        x = tf.nn.relu(x)\n",
    "\n",
    "        # input B x 100 x 25 -> output B x 10 x 50 \n",
    "        x = self.conv1b(x)\n",
    "        x = self.bn1b(x)\n",
    "        x = tf.nn.relu(x)\n",
    "        \n",
    "        #print(x.shape)\n",
    "        # input B x 10 x 50  -> output B x 1 x 75\n",
    "        x = self.conv1c(x)\n",
    "        x = self.bn1c(x)\n",
    "        x = tf.nn.relu(x)\n",
    "\n",
    "        # input x: B x 1 x 75 x 1 -> B x 75\n",
    "        if x.shape[0] == 1:\n",
    "            x = x[0]\n",
    "        else:\n",
    "            x = tf.squeeze(x)\n",
    "        \n",
    "        # B x 80\n",
    "        #print(x.shape, tp.shape)\n",
    "        x = tf.concat([x,ev], axis=1)\n",
    "        #print(x.shape)\n",
    "        \n",
    "        #print(x.shape)\n",
    "        x = self.fc1(x)\n",
    "        x = self.fc2(x)\n",
    "        x = self.fc3(x)\n",
    "        # x has shape B x 2\n",
    "        \n",
    "        res = []\n",
    "        for i in range(x.shape[0]):\n",
    "            #print(x[i][0], potential[i].shape, ev[i][0])\n",
    "            #print(x[i][1] * ev[i][0])\n",
    "            \n",
    "            res.append(x[i][0] * box_count(potential[i], x[i][1] * ev[i][0]))\n",
    "        \n",
    "        return tf.convert_to_tensor(res)\n",
    "        \n",
    "        \n",
    "        "
   ]
  },
  {
   "cell_type": "markdown",
   "metadata": {},
   "source": [
    "### Example 1 forward pass"
   ]
  },
  {
   "cell_type": "code",
   "execution_count": 10,
   "metadata": {},
   "outputs": [
    {
     "data": {
      "text/plain": [
       "<tf.Tensor: id=16983, shape=(6,), dtype=float32, numpy=\n",
       "array([0.        , 0.93905365, 0.93298113, 0.        , 0.        ,\n",
       "       1.8593873 ], dtype=float32)>"
      ]
     },
     "execution_count": 10,
     "metadata": {},
     "output_type": "execute_result"
    }
   ],
   "source": [
    "dos, evs, W, V = _gen_data(data_size=2, nev=3)\n",
    "dosnn = DOSNN(input_channel=2)\n",
    "#print(W.shape,evs.shape)\n",
    "dosnn.call(W, evs)"
   ]
  },
  {
   "cell_type": "markdown",
   "metadata": {},
   "source": [
    "## 7. Training"
   ]
  },
  {
   "cell_type": "code",
   "execution_count": 11,
   "metadata": {},
   "outputs": [],
   "source": [
    "def train(model, train_ds=None, test_ds=None, epochs=EPOCHS):\n",
    "    loss_object = tf.keras.losses.MeanSquaredError()\n",
    "    optimizer = tf.keras.optimizers.Adam()\n",
    "    \n",
    "    train_loss = tf.keras.metrics.Mean(name='train_loss')\n",
    "    test_loss = tf.keras.metrics.Mean(name='test_loss')\n",
    "    \n",
    "    @tf.function\n",
    "    def train_step(x, ev, target):\n",
    "        with tf.GradientTape() as tape:\n",
    "            #print(x.shape, ev.shape)\n",
    "            predictions = model(x, ev)\n",
    "            loss = loss_object(target, predictions)\n",
    "            gradients = tape.gradient(loss, model.trainable_variables)\n",
    "            optimizer.apply_gradients(zip(gradients, model.trainable_variables))\n",
    "\n",
    "            train_loss(loss)\n",
    "            \n",
    "            \n",
    "    @tf.function\n",
    "    def test_step(x, ev, target):\n",
    "        predictions = model(x, ev)\n",
    "        t_loss = loss_object(target, predictions)\n",
    "\n",
    "        test_loss(t_loss)\n",
    "    \n",
    "    \n",
    "\n",
    "    for epoch in range(epochs):\n",
    "        # Reset the metrics at the start of the next epoch\n",
    "        train_loss.reset_states()\n",
    "        test_loss.reset_states()\n",
    "\n",
    "        for x, ev, target in train_ds:\n",
    "            train_step(x, ev, target)\n",
    "\n",
    "        for x, ev, target in test_ds:\n",
    "            test_step(x, ev, target)\n",
    "\n",
    "        template = 'Epoch {}, Training Loss: {}, Test Loss: {}'\n",
    "        print(template.format(epoch+1,\n",
    "                            train_loss.result(),\n",
    "                            test_loss.result()))"
   ]
  },
  {
   "cell_type": "code",
   "execution_count": 12,
   "metadata": {},
   "outputs": [],
   "source": [
    "def compare_models(train_ds, test_ds, epochs=EPOCHS):\n",
    "    \n",
    "    # defining models\n",
    "    models = []\n",
    "    models.append(DOSNN(input_channel=1, model_name='1/u based'))\n",
    "    models.append(DOSNN(input_channel=1, model_name='V based'))\n",
    "    #models.append(DOSNN(input_channel=2, model_name='uV based'))\n",
    "    \n",
    "    # training\n",
    "    for i, model in enumerate(models):\n",
    "        print(\"-------------------------------------------\")\n",
    "        print(\"| Starting training for {} model\".format(model.model_name))\n",
    "        print(\"-------------------------------------------\")\n",
    "        \n",
    "        train(model, train_ds=train_ds[i], test_ds=test_ds[i], epochs=epochs)\n",
    "        print(\"\")\n",
    "    print(\"Training finished\\n\")\n",
    "    \n",
    "    # displaying some numerical values\n",
    "    sample = _gen_data(10)\n",
    "    print(\"-------------------------------------------\")\n",
    "    print(\"| Displaying numerical values for comparison\")\n",
    "    print(\"-------------------------------------------\")\n",
    "    print(\"True eigenvalues:\")\n",
    "    print(sample[0])\n",
    "    \n",
    "    \n",
    "    pred = []\n",
    "    for i in range(len(models)):\n",
    "        pred.append(models[i](sample[i+2], sample[1]))\n",
    "        print(\"\")\n",
    "        print(\"Results from {} GSNN\".format(models[i].model_name))\n",
    "        print(pred[i])\n",
    "    "
   ]
  },
  {
   "cell_type": "code",
   "execution_count": 13,
   "metadata": {},
   "outputs": [],
   "source": [
    "# generating data sets\n",
    "train_ds, test_ds = gen_data()"
   ]
  },
  {
   "cell_type": "code",
   "execution_count": null,
   "metadata": {
    "scrolled": false
   },
   "outputs": [
    {
     "name": "stdout",
     "output_type": "stream",
     "text": [
      "-------------------------------------------\n",
      "| Starting training for 1/u based model\n",
      "-------------------------------------------\n"
     ]
    }
   ],
   "source": [
    "compare_models(train_ds, test_ds)"
   ]
  },
  {
   "cell_type": "code",
   "execution_count": null,
   "metadata": {},
   "outputs": [],
   "source": []
  },
  {
   "cell_type": "code",
   "execution_count": null,
   "metadata": {},
   "outputs": [],
   "source": []
  }
 ],
 "metadata": {
  "kernelspec": {
   "display_name": "Python 3",
   "language": "python",
   "name": "python3"
  },
  "language_info": {
   "codemirror_mode": {
    "name": "ipython",
    "version": 3
   },
   "file_extension": ".py",
   "mimetype": "text/x-python",
   "name": "python",
   "nbconvert_exporter": "python",
   "pygments_lexer": "ipython3",
   "version": "3.7.5"
  }
 },
 "nbformat": 4,
 "nbformat_minor": 2
}

{
 "cells": [
  {
   "cell_type": "markdown",
   "metadata": {},
   "source": [
    "# Landscape DOS Neural Net for Box Counting\n",
    "## 1. Goal\n",
    "### Backgound\n",
    "This is a proof of concept project to construct construct $C_1$ and $C_2$ such that $N_{\\rm bc}(E)$ best fits the true density of states (DOS) $N(E)$.\n",
    "\n",
    "More precisely,\n",
    "- Given a potential $V$ on $L^2(Q_L)$ where $Q_L = [0, L] \\cap \\mathbb{Z}$ with periodic boundary condition\n",
    "- Find the DOS, $N(E)$, of the Schrodinger Hamiltonian $-\\Delta+V$ where $-\\Delta$ is the discrite Laplacian on $\\mathbb{Z}$.\n",
    "\n",
    "\n",
    "### Architecture\n",
    "The architecture of the neural net (NN) is very simple:\n",
    "1. 3 layers of CNN + batch normalization + relu\n",
    "2. 3 dense layers + relu\n",
    "As before, the inputs are some combinations of $V$, $u$, $W$. The loss function is\n",
    "$$\n",
    "    l(C_1 N_{\\rm bc}(C_2 E) - N(E))\n",
    "$$\n",
    "where $l$ is a simpler loss function such as mean square.\n",
    "\n",
    "\n",
    "\n",
    "\n"
   ]
  },
  {
   "cell_type": "markdown",
   "metadata": {},
   "source": [
    "## 2. Import neccessary libraries"
   ]
  },
  {
   "cell_type": "code",
   "execution_count": 1,
   "metadata": {},
   "outputs": [],
   "source": [
    "from __future__ import absolute_import, division, print_function, unicode_literals\n",
    "import numpy as np\n",
    "\n",
    "# tensorflow\n",
    "import tensorflow as tf\n",
    "from tensorflow.keras import layers, Model\n",
    "\n",
    "# eigenvalue solver\n",
    "from petsc4py import PETSc\n",
    "from slepc4py import SLEPc\n",
    "\n",
    "# Plot\n",
    "from matplotlib import pylab\n",
    "\n"
   ]
  },
  {
   "cell_type": "markdown",
   "metadata": {},
   "source": [
    "## 3. Setting constants"
   ]
  },
  {
   "cell_type": "code",
   "execution_count": 2,
   "metadata": {},
   "outputs": [],
   "source": [
    "BOXLENGTH = 1000\n",
    "KERNEL_SIZE = 10\n",
    "STRIDES = 10\n",
    "DATA_SIZE = 3\n",
    "BATCH_SIZE = 32\n",
    "EPOCHS = 3\n",
    "V_GEN = lambda x, y : 4.0*np.random.randint(0,2,[x,y]) # random potential: x = batch size, y = boxlength.\n",
    "CONV_CONST = np.pi**2/8\n",
    "NEV = 2\n",
    "EPSILON = np.finfo(np.float32).tiny"
   ]
  },
  {
   "cell_type": "markdown",
   "metadata": {},
   "source": [
    "## 4. Obtaining training/testing data"
   ]
  },
  {
   "cell_type": "markdown",
   "metadata": {},
   "source": [
    "## Getting the eigenvalues and the landscape function"
   ]
  },
  {
   "cell_type": "code",
   "execution_count": 3,
   "metadata": {},
   "outputs": [],
   "source": [
    "class DOS_data_generator():\n",
    "    # self, list of int, method, int/None, int/None, bool\n",
    "    def __init__(self, size, nev=NEV, V_gen=None, max_it=None, tol=None, periodic=True):\n",
    "        self.max_it = max_it\n",
    "        self.tol=tol\n",
    "        self.periodic = True\n",
    "        self.nev = nev\n",
    "        \n",
    "        self.V_gen = V_gen\n",
    "        if V_gen==None:\n",
    "            self.V_gen = np.random.rand\n",
    "            \n",
    "        \n",
    "        if type(size) == int:\n",
    "            self.size = [1,size]\n",
    "        else:\n",
    "            self.size = size\n",
    "            \n",
    "        self.one = PETSc.Vec().createSeq(self.size[1]) \n",
    "        self.one[:] = np.ones(self.size[1])\n",
    "        \n",
    "    # self, method --> PETSc Mat\n",
    "    # Makeing a periodic problem Hamiltonian -\\Delta+V\n",
    "    def make_Hamiltonian(self, V):\n",
    "        n = self.size[1]\n",
    "        A = PETSc.Mat().create()\n",
    "        A.setSizes([n, n])\n",
    "        A.setUp()\n",
    "\n",
    "        rstart, rend = A.getOwnershipRange()\n",
    "\n",
    "        # first row\n",
    "        if rstart == 0:\n",
    "            A[0, :2] = [2, -1]\n",
    "            rstart += 1\n",
    "        # last row\n",
    "        if rend == n:\n",
    "            A[n-1, -2:] = [-1, 2]\n",
    "            rend -= 1\n",
    "        # other rows\n",
    "        for i in range(rstart, rend):\n",
    "            A[i, i-1:i+2] = [-1, 2+V[i], -1]\n",
    "        # Periodic condition\n",
    "        if self.periodic:\n",
    "            A[rstart,rend-1] = -1\n",
    "            A[rend-1, rstart] = -1\n",
    "\n",
    "        A.assemble()\n",
    "\n",
    "        return A\n",
    "\n",
    "    # self, PETSc Mat --> np array of first nev eigenvalues\n",
    "    # compute the ground state eigenvalue\n",
    "    # return -1 if numerical solver is divergent\n",
    "    def compute_evs(self, Hamiltonian, nev):\n",
    "        E = SLEPc.EPS()\n",
    "        E.create()\n",
    "\n",
    "        E.setOperators(Hamiltonian)\n",
    "        E.setProblemType(SLEPc.EPS.ProblemType.HEP)\n",
    "        E.setTolerances(tol=self.tol, max_it=self.max_it)\n",
    "        E.setWhichEigenpairs(E.Which.SMALLEST_REAL)\n",
    "        E.setDimensions(nev=nev)\n",
    "\n",
    "        E.solve()\n",
    "        \n",
    "        nconv = E.getConverged()\n",
    "        #nconv = 34\n",
    "        if nconv < nev:\n",
    "            raise ValueError(\"Eigevanlue solver did not convergence for {} eigenvalue(s)\".format(nev-nconv))\n",
    "        \n",
    "        res = np.empty(nev, dtype=np.float32)\n",
    "        for i in range(nev):\n",
    "            res[i] = E.getEigenvalue(i).real*(1-E.computeError(i)) # gives upper bound\n",
    "        \n",
    "        return res\n",
    "    \n",
    "    \n",
    "    # self, PETSc.Mat, bool --> PETSc.Vec\n",
    "    # use PETSc.Vec.getArray() to convert result to np.ndarray\n",
    "    def compute_landscape(self, Hamiltonian, show=False):        \n",
    "        # Create solution landscape function u\n",
    "        u = PETSc.Vec().createSeq(self.size[1])\n",
    "        \n",
    "        # Initialize ksp solver.\n",
    "        ksp = PETSc.KSP().create()\n",
    "        ksp.setOperators(Hamiltonian)\n",
    "        \n",
    "        # Solve!\n",
    "        ksp.solve(self.one, u)\n",
    "\n",
    "        # # Use this to plot the solution (should look like a sinusoid).\n",
    "        if show:\n",
    "            pylab.plot(u.getArray())\n",
    "            pylab.show()\n",
    "            \n",
    "        return u   \n",
    "    \n",
    "    \n",
    "    # self, method --> np.ndarray, np.ndarray, np.ndarray\n",
    "    # return shape: \n",
    "    # evs: data_size x nev\n",
    "    # u: data_size x boxlength\n",
    "    # V: data_size x boxlength\n",
    "    # nev: int\n",
    "    def data_gen(self, V_gen=None, nev=None):\n",
    "        if V_gen == None:\n",
    "            V_gen = self.V_gen\n",
    "        if nev == None:\n",
    "            nev = self.nev\n",
    "        \n",
    "        self.V = V_gen(*self.size)\n",
    "        #print(self.V)\n",
    "        self.u = np.empty(self.size, dtype=np.float32)\n",
    "        self.evs = np.empty([self.size[0], nev], dtype=np.float32)\n",
    "        \n",
    "        \n",
    "        \n",
    "        for i in range(self.size[0]):\n",
    "            Hamiltonian = self.make_Hamiltonian(self.V[i])\n",
    "            self.evs[i] = self.compute_evs(Hamiltonian, nev)\n",
    "            self.u[i] = self.compute_landscape(Hamiltonian).getArray()\n",
    "    \n",
    "            \n",
    "        return self.evs, self.u, self.V.astype(np.float32), nev"
   ]
  },
  {
   "cell_type": "markdown",
   "metadata": {},
   "source": [
    "### Example Data Generation"
   ]
  },
  {
   "cell_type": "code",
   "execution_count": 4,
   "metadata": {},
   "outputs": [
    {
     "name": "stdout",
     "output_type": "stream",
     "text": [
      "(2, 10) (2, 100) (2, 100)\n",
      "Setting: discrete 1d integer lattice of size 100.\n",
      "List of fist 10 eigenvalues:\n",
      " [[ 0.17712425  0.23551793  0.32577297  0.47497907  0.48252064  0.67998827\n",
      "   0.7043823   0.76789725  0.78054696  0.7811376 ]\n",
      " [-0.0302873   0.10970417  0.13631888  0.32821777  0.42557192  0.43179938\n",
      "   0.47033292  0.4828686   0.52157253  0.5219809 ]]\n",
      "Example of the landscape potential W (orange) and V (blue):\n"
     ]
    },
    {
     "data": {
      "image/png": "[encoded data removed]",
      "text/plain": [
       "<Figure size 432x288 with 1 Axes>"
      ]
     },
     "metadata": {
      "needs_background": "light"
     },
     "output_type": "display_data"
    }
   ],
   "source": [
    "DOS = DOS_data_generator([2,100], nev=10, V_gen=V_GEN)\n",
    "evs0, u0, V0, nev0 = DOS.data_gen()\n",
    "print(evs0.shape, u0.shape, V0.shape)\n",
    "print(\"Setting: discrete 1d integer lattice of size 100.\")\n",
    "print(\"List of fist {} eigenvalues:\\n\".format(10), evs0)\n",
    "print(\"Example of the landscape potential W (orange) and V (blue):\")\n",
    "\n",
    "pylab.plot(V0[0])\n",
    "pylab.plot(1/u0[0])\n",
    "pylab.show()"
   ]
  },
  {
   "cell_type": "code",
   "execution_count": 5,
   "metadata": {},
   "outputs": [],
   "source": [
    "# int, int, method --> tf.Tensor, tf.Tensor, tf.Tensor, tf.Tensor\n",
    "# generates:\n",
    "# dos: (data_size x nev) x 1\n",
    "# evs: (data_size x nev) x 2\n",
    "# u, V: (data_size x nev) x boxlength x 1\n",
    "# uV: (data_size x nev) x boxlength x 2\n",
    "def _gen_data(data_size=DATA_SIZE, boxlength = BOXLENGTH, nev=NEV, V_gen=None):\n",
    "    data_generator = DOS_data_generator([data_size, boxlength], nev=nev, V_gen=V_gen)\n",
    "    evs, u, V, nev = data_generator.data_gen()\n",
    "    \n",
    "    #print(evs, u, V, nev)\n",
    "    # make input by forming nev number of rows for each row in u/V for accommodate the nev eigenvalue/nth \n",
    "    # eigenvalue pair\n",
    "    # shape at the end of this bloc is\n",
    "    # (make data_size x nev) by boxlength\n",
    "    zeros = np.zeros([data_size, nev, boxlength], dtype=np.float32)\n",
    "    u = u[:, np.newaxis,:] + zeros\n",
    "    u = np.concatenate(u, axis=0)\n",
    "    V = V[:, np.newaxis,:] + zeros\n",
    "    V = np.concatenate(V, axis=0)\n",
    "    \n",
    "    # (make data_size x nev) length np.array\n",
    "    evs = np.concatenate(evs)\n",
    "    evs = evs[..., np.newaxis]\n",
    "    \n",
    "    # make DOS target\n",
    "    dos = np.array(range(1,nev+1), dtype=np.float32)\n",
    "    dos = np.concatenate(dos+np.zeros([data_size, nev], dtype=np.float32), axis=0)\n",
    "    dos = dos[..., np.newaxis]\n",
    "    \n",
    "    #print(\"\")\n",
    "    #print(u.shape, V.shape, evs.shape, dos.shape)\n",
    "    #print(\"\")\n",
    "    #print(evs, u, V, dos)\n",
    "    #return\n",
    "    #evs = tf.concat([evs, 1/np.sqrt(evs)], axis=1)\n",
    "    #u = tf.convert_to_tensor(u,np.float32)[..., tf.newaxis]\n",
    "    #V = tf.convert_to_tensor(V,np.float32)[..., tf.newaxis]\n",
    "    #dos = tf.convert_to_tensor(dos,np.float32)\n",
    "    \n",
    "    evs = np.concatenate([evs, 1/np.sqrt(EPSILON+np.maximum(evs, 0.0))], axis=1)\n",
    "    u = u[..., np.newaxis]\n",
    "    V = V[..., np.newaxis]\n",
    "    #rint(dos.shape, evs.shape, u.shape, V.shape)\n",
    "    \n",
    "    return dos, evs, u, V, np.concatenate([u,V], axis=2)\n",
    "\n",
    "# output is a pair, each of the format: ev, u, V, uV   \n",
    "def gen_data(data_size=DATA_SIZE, nev=NEV, boxlength = BOXLENGTH, batch_size=BATCH_SIZE, V_gen=None):\n",
    "    train_ = _gen_data(data_size=data_size*10, nev=nev, boxlength=boxlength, V_gen=V_gen)\n",
    "    test_ = _gen_data(data_size=data_size, nev=nev, boxlength=boxlength, V_gen=V_gen)\n",
    "    \n",
    "    \n",
    "    train_ds, test_ds = [], []\n",
    "    for i in range(3):\n",
    "        train_ds.append(tf.data.Dataset.from_tensor_slices((train_[i+2], train_[1], train_[0])).shuffle(10*data_size).batch(batch_size))\n",
    "        test_ds.append(tf.data.Dataset.from_tensor_slices((test_[i+2], test_[1], test_[0])).batch(batch_size))\n",
    "    \n",
    "    return train_ds, test_ds"
   ]
  },
  {
   "cell_type": "code",
   "execution_count": 6,
   "metadata": {
    "scrolled": false
   },
   "outputs": [
    {
     "data": {
      "text/plain": [
       "[<BatchDataset shapes: ((None, 5, 1), (None, 2), (None, 1)), types: (tf.float32, tf.float32, tf.float32)>,\n",
       " <BatchDataset shapes: ((None, 5, 1), (None, 2), (None, 1)), types: (tf.float32, tf.float32, tf.float32)>,\n",
       " <BatchDataset shapes: ((None, 5, 2), (None, 2), (None, 1)), types: (tf.float32, tf.float32, tf.float32)>]"
      ]
     },
     "execution_count": 6,
     "metadata": {},
     "output_type": "execute_result"
    }
   ],
   "source": [
    "train_ds, test_ds = gen_data(data_size=2, nev=3, boxlength=5)\n",
    "train_ds"
   ]
  },
  {
   "cell_type": "markdown",
   "metadata": {},
   "source": [
    "## 5. Box Counting"
   ]
  },
  {
   "cell_type": "code",
   "execution_count": 31,
   "metadata": {},
   "outputs": [],
   "source": [
    "# input:\n",
    "# potential: boxlength x 1\n",
    "# ev: tf scalar\n",
    "# output = tf scalar\n",
    "def box_count(potential, ev):\n",
    "    ksize = int(tf.math.ceil(1/tf.math.sqrt(ev)))\n",
    "    #ksize = ksize[..., tf.newaxis]\n",
    "    #ksize = 3\n",
    "    potential = potential[tf.newaxis, ...]\n",
    "    #print(ksize.shape)\n",
    "    \n",
    "    if ksize < 2:\n",
    "        count = tf.cast((tf.math.reduce_max(ev-potential) > 0), dtype=np.float32)\n",
    "    else:\n",
    "        \n",
    "        #print(ksize)\n",
    "        #print(ev.shape, potential.shape)\n",
    "        #print((ev+potential).shape)\n",
    "        #print(ksize.shape)\n",
    "        count = tf.nn.max_pool1d(ev-potential, ksize, ksize, padding='SAME') > 0\n",
    "    \n",
    "    #print(count.dtype)\n",
    "    #print(count)\n",
    "    #print(potential.shape)\n",
    "    return tf.math.count_nonzero(count, dtype=np.float32)/potential.shape[1]\n",
    "    "
   ]
  },
  {
   "cell_type": "code",
   "execution_count": 32,
   "metadata": {},
   "outputs": [
    {
     "data": {
      "text/plain": [
       "<tf.Tensor: id=20179, shape=(), dtype=float32, numpy=0.25>"
      ]
     },
     "execution_count": 32,
     "metadata": {},
     "output_type": "execute_result"
    }
   ],
   "source": [
    "W0 = 1/u0[0][..., np.newaxis]\n",
    "ev0 = evs0[0,0] #\n",
    "#print(W0.shape, ev0)\n",
    "box_count(W0, 0.999999)"
   ]
  },
  {
   "cell_type": "markdown",
   "metadata": {},
   "source": [
    "## 6. CNN+fc model"
   ]
  },
  {
   "cell_type": "code",
   "execution_count": 33,
   "metadata": {},
   "outputs": [],
   "source": [
    "class DOSNN(Model):\n",
    "    def __init__(self, boxlength=BOXLENGTH, kernel_size=KERNEL_SIZE, strides=STRIDES, input_channel=1, model_name=''):\n",
    "        super(DOSNN, self).__init__(name='')\n",
    "        self.model_name = model_name\n",
    "        \n",
    "        # input B x 1000 x input_channel -> output B x 100 x 25\n",
    "        self.conv1a = layers.Conv1D(25, kernel_size, strides=strides, input_shape=(None, boxlength, input_channel))\n",
    "        self.bn1a = layers.BatchNormalization()\n",
    "\n",
    "        # input B x 100 x 25 -> output B x 10 x 50 \n",
    "        self.conv1b = layers.Conv1D(50, kernel_size, strides=strides)\n",
    "        self.bn1b = layers.BatchNormalization()\n",
    "\n",
    "        # input B x 10 x 50  -> output B x 1 x 75\n",
    "        self.conv1c = layers.Conv1D(75, kernel_size, strides=strides)\n",
    "        self.bn1c = layers.BatchNormalization()\n",
    "        \n",
    "        # dense layers for predictions by landscape \n",
    "        #self.ufc1 = layers.Dense(5, activation='tanh')\n",
    "        #self.ufc2 = layers.Dense(5, activation='tanh')\n",
    "        \n",
    "        # dense layers for concatenated call(umax/pi^2*8) + CNN output\n",
    "        self.fc1 = layers.Dense(50, activation='relu')\n",
    "        self.fc2 = layers.Dense(20, activation='relu')\n",
    "        self.fc3 = layers.Dense(2, activation='softplus')    \n",
    "        \n",
    "\n",
    "    # x = potential\n",
    "    # tp = target prediction by the landscape potential\n",
    "    def call(self, x, ev, training=False):\n",
    "        # x has size Batch x BOXLENGTH x channel (==1)\n",
    "        potential = x\n",
    "        \n",
    "        # input B x 1000 x 2 -> output B x 100 x 25\n",
    "        x = self.conv1a(x)\n",
    "        x = self.bn1a(x)\n",
    "        x = tf.nn.relu(x)\n",
    "\n",
    "        # input B x 100 x 25 -> output B x 10 x 50 \n",
    "        x = self.conv1b(x)\n",
    "        x = self.bn1b(x)\n",
    "        x = tf.nn.relu(x)\n",
    "        \n",
    "        #print(x.shape)\n",
    "        # input B x 10 x 50  -> output B x 1 x 75\n",
    "        x = self.conv1c(x)\n",
    "        x = self.bn1c(x)\n",
    "        x = tf.nn.relu(x)\n",
    "\n",
    "        # input x: B x 1 x 75 x 1 -> B x 75\n",
    "        if x.shape[0] == 1:\n",
    "            x = x[0]\n",
    "        else:\n",
    "            x = tf.squeeze(x)\n",
    "        \n",
    "        # B x 80\n",
    "        #print(x.shape, tp.shape)\n",
    "        x = tf.concat([x,ev], axis=1)\n",
    "        #print(x.shape)\n",
    "        \n",
    "        #print(x.shape)\n",
    "        x = self.fc1(x)\n",
    "        x = self.fc2(x)\n",
    "        x = self.fc3(x)\n",
    "        # x has shape B x 2\n",
    "        \n",
    "        res = []\n",
    "        for i in range(x.shape[0]):\n",
    "            #print(x[i][0], potential[i].shape, ev[i][0])\n",
    "            #print(x[i][1] * ev[i][0])\n",
    "            \n",
    "            res.append(x[i][0] * box_count(potential[i], x[i][1] * ev[i][0]))\n",
    "        \n",
    "        return tf.convert_to_tensor(res)\n",
    "        \n",
    "        \n",
    "        "
   ]
  },
  {
   "cell_type": "markdown",
   "metadata": {},
   "source": [
    "### Example 1 forward pass"
   ]
  },
  {
   "cell_type": "code",
   "execution_count": 34,
   "metadata": {},
   "outputs": [
    {
     "data": {
      "text/plain": [
       "<tf.Tensor: id=20752, shape=(6,), dtype=float32, numpy=\n",
       "array([0.        , 0.        , 0.        , 0.        , 0.        ,\n",
       "       0.00060847], dtype=float32)>"
      ]
     },
     "execution_count": 34,
     "metadata": {},
     "output_type": "execute_result"
    }
   ],
   "source": [
    "dos, evs, u, V, uV = _gen_data(data_size=2, nev=3)\n",
    "dosnn = DOSNN(input_channel=2)\n",
    "#print(uV.shape,evs.shape)\n",
    "dosnn.call(1/u, evs)"
   ]
  },
  {
   "cell_type": "markdown",
   "metadata": {},
   "source": [
    "## 7. Training"
   ]
  },
  {
   "cell_type": "code",
   "execution_count": 35,
   "metadata": {},
   "outputs": [],
   "source": [
    "def train(model, train_ds=None, test_ds=None, epochs=EPOCHS):\n",
    "    loss_object = tf.keras.losses.MeanAbsolutePercentageError()\n",
    "    optimizer = tf.keras.optimizers.Adam()\n",
    "    \n",
    "    train_loss = tf.keras.metrics.Mean(name='train_loss')\n",
    "    test_loss = tf.keras.metrics.Mean(name='test_loss')\n",
    "    \n",
    "    @tf.function\n",
    "    def train_step(x, ev, target):\n",
    "        with tf.GradientTape() as tape:\n",
    "            print(x.shape, ev.shape)\n",
    "            predictions = model(x, ev)\n",
    "            loss = loss_object(target, predictions)\n",
    "            gradients = tape.gradient(loss, model.trainable_variables)\n",
    "            optimizer.apply_gradients(zip(gradients, model.trainable_variables))\n",
    "\n",
    "            train_loss(loss)\n",
    "            \n",
    "            \n",
    "    @tf.function\n",
    "    def test_step(x, ev, target):\n",
    "        predictions = model(x, ev)\n",
    "        t_loss = loss_object(target, predictions)\n",
    "\n",
    "        test_loss(t_loss)\n",
    "    \n",
    "    \n",
    "\n",
    "    for epoch in range(epochs):\n",
    "        # Reset the metrics at the start of the next epoch\n",
    "        train_loss.reset_states()\n",
    "        test_loss.reset_states()\n",
    "\n",
    "        for x, ev, target in train_ds:\n",
    "            train_step(x, ev, target)\n",
    "\n",
    "        for x, ev, target in test_ds:\n",
    "            test_step(x, ev, target)\n",
    "\n",
    "        template = 'Epoch {}, Training Loss: {}, Test Loss: {}'\n",
    "        print(template.format(epoch+1,\n",
    "                            train_loss.result(),\n",
    "                            test_loss.result()))"
   ]
  },
  {
   "cell_type": "code",
   "execution_count": 36,
   "metadata": {},
   "outputs": [],
   "source": [
    "def compare_models(train_ds, test_ds, epochs=EPOCHS):\n",
    "    \n",
    "    # defining models\n",
    "    models = []\n",
    "    models.append(DOSNN(input_channel=1, model_name='u based'))\n",
    "    models.append(DOSNN(input_channel=1, model_name='V based'))\n",
    "    #models.append(DOSNN(input_channel=2, model_name='uV based'))\n",
    "    \n",
    "    # training\n",
    "    for i, model in enumerate(models):\n",
    "        print(\"-------------------------------------------\")\n",
    "        print(\"| Starting training for {} model\".format(model.model_name))\n",
    "        print(\"-------------------------------------------\")\n",
    "        \n",
    "        train(model, train_ds=train_ds[i], test_ds=test_ds[i], epochs=epochs)\n",
    "        print(\"\")\n",
    "    print(\"Training finished\\n\")\n",
    "    \n",
    "    # displaying some numerical values\n",
    "    sample = _gen_data(10)\n",
    "    print(\"-------------------------------------------\")\n",
    "    print(\"| Displaying numerical values for comparison\")\n",
    "    print(\"-------------------------------------------\")\n",
    "    print(\"True eigenvalues:\")\n",
    "    print(sample[0])\n",
    "    \n",
    "    \n",
    "    pred = []\n",
    "    for i in range(len(models)):\n",
    "        pred.append(models[i](sample[i+2], sample[1]))\n",
    "        print(\"\")\n",
    "        print(\"Results from {} GSNN\".format(models[i].model_name))\n",
    "        print(pred[i])\n",
    "    "
   ]
  },
  {
   "cell_type": "code",
   "execution_count": 37,
   "metadata": {},
   "outputs": [],
   "source": [
    "# generating data sets\n",
    "train_ds, test_ds = gen_data()"
   ]
  },
  {
   "cell_type": "code",
   "execution_count": 38,
   "metadata": {
    "scrolled": false
   },
   "outputs": [
    {
     "name": "stdout",
     "output_type": "stream",
     "text": [
      "-------------------------------------------\n",
      "| Starting training for u based model\n",
      "-------------------------------------------\n",
      "(32, 1000, 1) (32, 2)\n"
     ]
    },
    {
     "ename": "TypeError",
     "evalue": "in converted code:\n\n    <ipython-input-35-48d444ee8c72>:12 train_step  *\n        predictions = model(x, ev)\n    /home/li/anaconda3/envs/wave-tf/lib/python3.7/site-packages/tensorflow_core/python/keras/engine/base_layer.py:847 __call__\n        outputs = call_fn(cast_inputs, *args, **kwargs)\n    <ipython-input-25-eac329d5b098>:72 call  *\n        res.append(x[i][0] * box_count(potential[i], x[i][1] * ev[i][0]))\n    <ipython-input-31-c8fb704ceaa2>:20 box_count  *\n        count = tf.nn.max_pool1d(ev-potential, ksize, ksize, padding='SAME') > 0\n    /home/li/anaconda3/envs/wave-tf/lib/python3.7/site-packages/tensorflow_core/python/ops/nn_ops.py:3844 max_pool1d\n        ksize = [1] + _get_sequence(ksize, 1, channel_index, \"ksize\")\n    /home/li/anaconda3/envs/wave-tf/lib/python3.7/site-packages/tensorflow_core/python/ops/nn_ops.py:68 _get_sequence\n        current_n = len(value)\n    /home/li/anaconda3/envs/wave-tf/lib/python3.7/site-packages/tensorflow_core/python/framework/ops.py:741 __len__\n        \"shape information.\".format(self.name))\n\n    TypeError: len is not well defined for symbolic Tensors. (dosnn_11/Cast:0) Please call `x.shape` rather than `len(x)` for shape information.\n",
     "output_type": "error",
     "traceback": [
      "\u001b[0;31m---------------------------------------------------------------------------\u001b[0m",
      "\u001b[0;31mTypeError\u001b[0m                                 Traceback (most recent call last)",
      "\u001b[0;32m<ipython-input-38-6a75b6e3869d>\u001b[0m in \u001b[0;36m<module>\u001b[0;34m\u001b[0m\n\u001b[0;32m----> 1\u001b[0;31m \u001b[0mcompare_models\u001b[0m\u001b[0;34m(\u001b[0m\u001b[0mtrain_ds\u001b[0m\u001b[0;34m,\u001b[0m \u001b[0mtest_ds\u001b[0m\u001b[0;34m)\u001b[0m\u001b[0;34m\u001b[0m\u001b[0;34m\u001b[0m\u001b[0m\n\u001b[0m",
      "\u001b[0;32m<ipython-input-36-db6c356488bb>\u001b[0m in \u001b[0;36mcompare_models\u001b[0;34m(train_ds, test_ds, epochs)\u001b[0m\n\u001b[1;32m     13\u001b[0m         \u001b[0mprint\u001b[0m\u001b[0;34m(\u001b[0m\u001b[0;34m\"-------------------------------------------\"\u001b[0m\u001b[0;34m)\u001b[0m\u001b[0;34m\u001b[0m\u001b[0;34m\u001b[0m\u001b[0m\n\u001b[1;32m     14\u001b[0m \u001b[0;34m\u001b[0m\u001b[0m\n\u001b[0;32m---> 15\u001b[0;31m         \u001b[0mtrain\u001b[0m\u001b[0;34m(\u001b[0m\u001b[0mmodel\u001b[0m\u001b[0;34m,\u001b[0m \u001b[0mtrain_ds\u001b[0m\u001b[0;34m=\u001b[0m\u001b[0mtrain_ds\u001b[0m\u001b[0;34m[\u001b[0m\u001b[0mi\u001b[0m\u001b[0;34m]\u001b[0m\u001b[0;34m,\u001b[0m \u001b[0mtest_ds\u001b[0m\u001b[0;34m=\u001b[0m\u001b[0mtest_ds\u001b[0m\u001b[0;34m[\u001b[0m\u001b[0mi\u001b[0m\u001b[0;34m]\u001b[0m\u001b[0;34m,\u001b[0m \u001b[0mepochs\u001b[0m\u001b[0;34m=\u001b[0m\u001b[0mepochs\u001b[0m\u001b[0;34m)\u001b[0m\u001b[0;34m\u001b[0m\u001b[0;34m\u001b[0m\u001b[0m\n\u001b[0m\u001b[1;32m     16\u001b[0m         \u001b[0mprint\u001b[0m\u001b[0;34m(\u001b[0m\u001b[0;34m\"\"\u001b[0m\u001b[0;34m)\u001b[0m\u001b[0;34m\u001b[0m\u001b[0;34m\u001b[0m\u001b[0m\n\u001b[1;32m     17\u001b[0m     \u001b[0mprint\u001b[0m\u001b[0;34m(\u001b[0m\u001b[0;34m\"Training finished\\n\"\u001b[0m\u001b[0;34m)\u001b[0m\u001b[0;34m\u001b[0m\u001b[0;34m\u001b[0m\u001b[0m\n",
      "\u001b[0;32m<ipython-input-35-48d444ee8c72>\u001b[0m in \u001b[0;36mtrain\u001b[0;34m(model, train_ds, test_ds, epochs)\u001b[0m\n\u001b[1;32m     33\u001b[0m \u001b[0;34m\u001b[0m\u001b[0m\n\u001b[1;32m     34\u001b[0m         \u001b[0;32mfor\u001b[0m \u001b[0mx\u001b[0m\u001b[0;34m,\u001b[0m \u001b[0mev\u001b[0m\u001b[0;34m,\u001b[0m \u001b[0mtarget\u001b[0m \u001b[0;32min\u001b[0m \u001b[0mtrain_ds\u001b[0m\u001b[0;34m:\u001b[0m\u001b[0;34m\u001b[0m\u001b[0;34m\u001b[0m\u001b[0m\n\u001b[0;32m---> 35\u001b[0;31m             \u001b[0mtrain_step\u001b[0m\u001b[0;34m(\u001b[0m\u001b[0mx\u001b[0m\u001b[0;34m,\u001b[0m \u001b[0mev\u001b[0m\u001b[0;34m,\u001b[0m \u001b[0mtarget\u001b[0m\u001b[0;34m)\u001b[0m\u001b[0;34m\u001b[0m\u001b[0;34m\u001b[0m\u001b[0m\n\u001b[0m\u001b[1;32m     36\u001b[0m \u001b[0;34m\u001b[0m\u001b[0m\n\u001b[1;32m     37\u001b[0m         \u001b[0;32mfor\u001b[0m \u001b[0mx\u001b[0m\u001b[0;34m,\u001b[0m \u001b[0mev\u001b[0m\u001b[0;34m,\u001b[0m \u001b[0mtarget\u001b[0m \u001b[0;32min\u001b[0m \u001b[0mtest_ds\u001b[0m\u001b[0;34m:\u001b[0m\u001b[0;34m\u001b[0m\u001b[0;34m\u001b[0m\u001b[0m\n",
      "\u001b[0;32m~/anaconda3/envs/wave-tf/lib/python3.7/site-packages/tensorflow_core/python/eager/def_function.py\u001b[0m in \u001b[0;36m__call__\u001b[0;34m(self, *args, **kwds)\u001b[0m\n\u001b[1;32m    455\u001b[0m \u001b[0;34m\u001b[0m\u001b[0m\n\u001b[1;32m    456\u001b[0m     \u001b[0mtracing_count\u001b[0m \u001b[0;34m=\u001b[0m \u001b[0mself\u001b[0m\u001b[0;34m.\u001b[0m\u001b[0m_get_tracing_count\u001b[0m\u001b[0;34m(\u001b[0m\u001b[0;34m)\u001b[0m\u001b[0;34m\u001b[0m\u001b[0;34m\u001b[0m\u001b[0m\n\u001b[0;32m--> 457\u001b[0;31m     \u001b[0mresult\u001b[0m \u001b[0;34m=\u001b[0m \u001b[0mself\u001b[0m\u001b[0;34m.\u001b[0m\u001b[0m_call\u001b[0m\u001b[0;34m(\u001b[0m\u001b[0;34m*\u001b[0m\u001b[0margs\u001b[0m\u001b[0;34m,\u001b[0m \u001b[0;34m**\u001b[0m\u001b[0mkwds\u001b[0m\u001b[0;34m)\u001b[0m\u001b[0;34m\u001b[0m\u001b[0;34m\u001b[0m\u001b[0m\n\u001b[0m\u001b[1;32m    458\u001b[0m     \u001b[0;32mif\u001b[0m \u001b[0mtracing_count\u001b[0m \u001b[0;34m==\u001b[0m \u001b[0mself\u001b[0m\u001b[0;34m.\u001b[0m\u001b[0m_get_tracing_count\u001b[0m\u001b[0;34m(\u001b[0m\u001b[0;34m)\u001b[0m\u001b[0;34m:\u001b[0m\u001b[0;34m\u001b[0m\u001b[0;34m\u001b[0m\u001b[0m\n\u001b[1;32m    459\u001b[0m       \u001b[0mself\u001b[0m\u001b[0;34m.\u001b[0m\u001b[0m_call_counter\u001b[0m\u001b[0;34m.\u001b[0m\u001b[0mcalled_without_tracing\u001b[0m\u001b[0;34m(\u001b[0m\u001b[0;34m)\u001b[0m\u001b[0;34m\u001b[0m\u001b[0;34m\u001b[0m\u001b[0m\n",
      "\u001b[0;32m~/anaconda3/envs/wave-tf/lib/python3.7/site-packages/tensorflow_core/python/eager/def_function.py\u001b[0m in \u001b[0;36m_call\u001b[0;34m(self, *args, **kwds)\u001b[0m\n\u001b[1;32m    501\u001b[0m       \u001b[0;31m# This is the first call of __call__, so we have to initialize.\u001b[0m\u001b[0;34m\u001b[0m\u001b[0;34m\u001b[0m\u001b[0;34m\u001b[0m\u001b[0m\n\u001b[1;32m    502\u001b[0m       \u001b[0minitializer_map\u001b[0m \u001b[0;34m=\u001b[0m \u001b[0mobject_identity\u001b[0m\u001b[0;34m.\u001b[0m\u001b[0mObjectIdentityDictionary\u001b[0m\u001b[0;34m(\u001b[0m\u001b[0;34m)\u001b[0m\u001b[0;34m\u001b[0m\u001b[0;34m\u001b[0m\u001b[0m\n\u001b[0;32m--> 503\u001b[0;31m       \u001b[0mself\u001b[0m\u001b[0;34m.\u001b[0m\u001b[0m_initialize\u001b[0m\u001b[0;34m(\u001b[0m\u001b[0margs\u001b[0m\u001b[0;34m,\u001b[0m \u001b[0mkwds\u001b[0m\u001b[0;34m,\u001b[0m \u001b[0madd_initializers_to\u001b[0m\u001b[0;34m=\u001b[0m\u001b[0minitializer_map\u001b[0m\u001b[0;34m)\u001b[0m\u001b[0;34m\u001b[0m\u001b[0;34m\u001b[0m\u001b[0m\n\u001b[0m\u001b[1;32m    504\u001b[0m     \u001b[0;32mfinally\u001b[0m\u001b[0;34m:\u001b[0m\u001b[0;34m\u001b[0m\u001b[0;34m\u001b[0m\u001b[0m\n\u001b[1;32m    505\u001b[0m       \u001b[0;31m# At this point we know that the initialization is complete (or less\u001b[0m\u001b[0;34m\u001b[0m\u001b[0;34m\u001b[0m\u001b[0;34m\u001b[0m\u001b[0m\n",
      "\u001b[0;32m~/anaconda3/envs/wave-tf/lib/python3.7/site-packages/tensorflow_core/python/eager/def_function.py\u001b[0m in \u001b[0;36m_initialize\u001b[0;34m(self, args, kwds, add_initializers_to)\u001b[0m\n\u001b[1;32m    406\u001b[0m     self._concrete_stateful_fn = (\n\u001b[1;32m    407\u001b[0m         self._stateful_fn._get_concrete_function_internal_garbage_collected(  # pylint: disable=protected-access\n\u001b[0;32m--> 408\u001b[0;31m             *args, **kwds))\n\u001b[0m\u001b[1;32m    409\u001b[0m \u001b[0;34m\u001b[0m\u001b[0m\n\u001b[1;32m    410\u001b[0m     \u001b[0;32mdef\u001b[0m \u001b[0minvalid_creator_scope\u001b[0m\u001b[0;34m(\u001b[0m\u001b[0;34m*\u001b[0m\u001b[0munused_args\u001b[0m\u001b[0;34m,\u001b[0m \u001b[0;34m**\u001b[0m\u001b[0munused_kwds\u001b[0m\u001b[0;34m)\u001b[0m\u001b[0;34m:\u001b[0m\u001b[0;34m\u001b[0m\u001b[0;34m\u001b[0m\u001b[0m\n",
      "\u001b[0;32m~/anaconda3/envs/wave-tf/lib/python3.7/site-packages/tensorflow_core/python/eager/function.py\u001b[0m in \u001b[0;36m_get_concrete_function_internal_garbage_collected\u001b[0;34m(self, *args, **kwargs)\u001b[0m\n\u001b[1;32m   1846\u001b[0m     \u001b[0;32mif\u001b[0m \u001b[0mself\u001b[0m\u001b[0;34m.\u001b[0m\u001b[0minput_signature\u001b[0m\u001b[0;34m:\u001b[0m\u001b[0;34m\u001b[0m\u001b[0;34m\u001b[0m\u001b[0m\n\u001b[1;32m   1847\u001b[0m       \u001b[0margs\u001b[0m\u001b[0;34m,\u001b[0m \u001b[0mkwargs\u001b[0m \u001b[0;34m=\u001b[0m \u001b[0;32mNone\u001b[0m\u001b[0;34m,\u001b[0m \u001b[0;32mNone\u001b[0m\u001b[0;34m\u001b[0m\u001b[0;34m\u001b[0m\u001b[0m\n\u001b[0;32m-> 1848\u001b[0;31m     \u001b[0mgraph_function\u001b[0m\u001b[0;34m,\u001b[0m \u001b[0m_\u001b[0m\u001b[0;34m,\u001b[0m \u001b[0m_\u001b[0m \u001b[0;34m=\u001b[0m \u001b[0mself\u001b[0m\u001b[0;34m.\u001b[0m\u001b[0m_maybe_define_function\u001b[0m\u001b[0;34m(\u001b[0m\u001b[0margs\u001b[0m\u001b[0;34m,\u001b[0m \u001b[0mkwargs\u001b[0m\u001b[0;34m)\u001b[0m\u001b[0;34m\u001b[0m\u001b[0;34m\u001b[0m\u001b[0m\n\u001b[0m\u001b[1;32m   1849\u001b[0m     \u001b[0;32mreturn\u001b[0m \u001b[0mgraph_function\u001b[0m\u001b[0;34m\u001b[0m\u001b[0;34m\u001b[0m\u001b[0m\n\u001b[1;32m   1850\u001b[0m \u001b[0;34m\u001b[0m\u001b[0m\n",
      "\u001b[0;32m~/anaconda3/envs/wave-tf/lib/python3.7/site-packages/tensorflow_core/python/eager/function.py\u001b[0m in \u001b[0;36m_maybe_define_function\u001b[0;34m(self, args, kwargs)\u001b[0m\n\u001b[1;32m   2148\u001b[0m         \u001b[0mgraph_function\u001b[0m \u001b[0;34m=\u001b[0m \u001b[0mself\u001b[0m\u001b[0;34m.\u001b[0m\u001b[0m_function_cache\u001b[0m\u001b[0;34m.\u001b[0m\u001b[0mprimary\u001b[0m\u001b[0;34m.\u001b[0m\u001b[0mget\u001b[0m\u001b[0;34m(\u001b[0m\u001b[0mcache_key\u001b[0m\u001b[0;34m,\u001b[0m \u001b[0;32mNone\u001b[0m\u001b[0;34m)\u001b[0m\u001b[0;34m\u001b[0m\u001b[0;34m\u001b[0m\u001b[0m\n\u001b[1;32m   2149\u001b[0m         \u001b[0;32mif\u001b[0m \u001b[0mgraph_function\u001b[0m \u001b[0;32mis\u001b[0m \u001b[0;32mNone\u001b[0m\u001b[0;34m:\u001b[0m\u001b[0;34m\u001b[0m\u001b[0;34m\u001b[0m\u001b[0m\n\u001b[0;32m-> 2150\u001b[0;31m           \u001b[0mgraph_function\u001b[0m \u001b[0;34m=\u001b[0m \u001b[0mself\u001b[0m\u001b[0;34m.\u001b[0m\u001b[0m_create_graph_function\u001b[0m\u001b[0;34m(\u001b[0m\u001b[0margs\u001b[0m\u001b[0;34m,\u001b[0m \u001b[0mkwargs\u001b[0m\u001b[0;34m)\u001b[0m\u001b[0;34m\u001b[0m\u001b[0;34m\u001b[0m\u001b[0m\n\u001b[0m\u001b[1;32m   2151\u001b[0m           \u001b[0mself\u001b[0m\u001b[0;34m.\u001b[0m\u001b[0m_function_cache\u001b[0m\u001b[0;34m.\u001b[0m\u001b[0mprimary\u001b[0m\u001b[0;34m[\u001b[0m\u001b[0mcache_key\u001b[0m\u001b[0;34m]\u001b[0m \u001b[0;34m=\u001b[0m \u001b[0mgraph_function\u001b[0m\u001b[0;34m\u001b[0m\u001b[0;34m\u001b[0m\u001b[0m\n\u001b[1;32m   2152\u001b[0m         \u001b[0;32mreturn\u001b[0m \u001b[0mgraph_function\u001b[0m\u001b[0;34m,\u001b[0m \u001b[0margs\u001b[0m\u001b[0;34m,\u001b[0m \u001b[0mkwargs\u001b[0m\u001b[0;34m\u001b[0m\u001b[0;34m\u001b[0m\u001b[0m\n",
      "\u001b[0;32m~/anaconda3/envs/wave-tf/lib/python3.7/site-packages/tensorflow_core/python/eager/function.py\u001b[0m in \u001b[0;36m_create_graph_function\u001b[0;34m(self, args, kwargs, override_flat_arg_shapes)\u001b[0m\n\u001b[1;32m   2039\u001b[0m             \u001b[0marg_names\u001b[0m\u001b[0;34m=\u001b[0m\u001b[0marg_names\u001b[0m\u001b[0;34m,\u001b[0m\u001b[0;34m\u001b[0m\u001b[0;34m\u001b[0m\u001b[0m\n\u001b[1;32m   2040\u001b[0m             \u001b[0moverride_flat_arg_shapes\u001b[0m\u001b[0;34m=\u001b[0m\u001b[0moverride_flat_arg_shapes\u001b[0m\u001b[0;34m,\u001b[0m\u001b[0;34m\u001b[0m\u001b[0;34m\u001b[0m\u001b[0m\n\u001b[0;32m-> 2041\u001b[0;31m             capture_by_value=self._capture_by_value),\n\u001b[0m\u001b[1;32m   2042\u001b[0m         \u001b[0mself\u001b[0m\u001b[0;34m.\u001b[0m\u001b[0m_function_attributes\u001b[0m\u001b[0;34m,\u001b[0m\u001b[0;34m\u001b[0m\u001b[0;34m\u001b[0m\u001b[0m\n\u001b[1;32m   2043\u001b[0m         \u001b[0;31m# Tell the ConcreteFunction to clean up its graph once it goes out of\u001b[0m\u001b[0;34m\u001b[0m\u001b[0;34m\u001b[0m\u001b[0;34m\u001b[0m\u001b[0m\n",
      "\u001b[0;32m~/anaconda3/envs/wave-tf/lib/python3.7/site-packages/tensorflow_core/python/framework/func_graph.py\u001b[0m in \u001b[0;36mfunc_graph_from_py_func\u001b[0;34m(name, python_func, args, kwargs, signature, func_graph, autograph, autograph_options, add_control_dependencies, arg_names, op_return_value, collections, capture_by_value, override_flat_arg_shapes)\u001b[0m\n\u001b[1;32m    913\u001b[0m                                           converted_func)\n\u001b[1;32m    914\u001b[0m \u001b[0;34m\u001b[0m\u001b[0m\n\u001b[0;32m--> 915\u001b[0;31m       \u001b[0mfunc_outputs\u001b[0m \u001b[0;34m=\u001b[0m \u001b[0mpython_func\u001b[0m\u001b[0;34m(\u001b[0m\u001b[0;34m*\u001b[0m\u001b[0mfunc_args\u001b[0m\u001b[0;34m,\u001b[0m \u001b[0;34m**\u001b[0m\u001b[0mfunc_kwargs\u001b[0m\u001b[0;34m)\u001b[0m\u001b[0;34m\u001b[0m\u001b[0;34m\u001b[0m\u001b[0m\n\u001b[0m\u001b[1;32m    916\u001b[0m \u001b[0;34m\u001b[0m\u001b[0m\n\u001b[1;32m    917\u001b[0m       \u001b[0;31m# invariant: `func_outputs` contains only Tensors, CompositeTensors,\u001b[0m\u001b[0;34m\u001b[0m\u001b[0;34m\u001b[0m\u001b[0;34m\u001b[0m\u001b[0m\n",
      "\u001b[0;32m~/anaconda3/envs/wave-tf/lib/python3.7/site-packages/tensorflow_core/python/eager/def_function.py\u001b[0m in \u001b[0;36mwrapped_fn\u001b[0;34m(*args, **kwds)\u001b[0m\n\u001b[1;32m    356\u001b[0m         \u001b[0;31m# __wrapped__ allows AutoGraph to swap in a converted function. We give\u001b[0m\u001b[0;34m\u001b[0m\u001b[0;34m\u001b[0m\u001b[0;34m\u001b[0m\u001b[0m\n\u001b[1;32m    357\u001b[0m         \u001b[0;31m# the function a weak reference to itself to avoid a reference cycle.\u001b[0m\u001b[0;34m\u001b[0m\u001b[0;34m\u001b[0m\u001b[0;34m\u001b[0m\u001b[0m\n\u001b[0;32m--> 358\u001b[0;31m         \u001b[0;32mreturn\u001b[0m \u001b[0mweak_wrapped_fn\u001b[0m\u001b[0;34m(\u001b[0m\u001b[0;34m)\u001b[0m\u001b[0;34m.\u001b[0m\u001b[0m__wrapped__\u001b[0m\u001b[0;34m(\u001b[0m\u001b[0;34m*\u001b[0m\u001b[0margs\u001b[0m\u001b[0;34m,\u001b[0m \u001b[0;34m**\u001b[0m\u001b[0mkwds\u001b[0m\u001b[0;34m)\u001b[0m\u001b[0;34m\u001b[0m\u001b[0;34m\u001b[0m\u001b[0m\n\u001b[0m\u001b[1;32m    359\u001b[0m     \u001b[0mweak_wrapped_fn\u001b[0m \u001b[0;34m=\u001b[0m \u001b[0mweakref\u001b[0m\u001b[0;34m.\u001b[0m\u001b[0mref\u001b[0m\u001b[0;34m(\u001b[0m\u001b[0mwrapped_fn\u001b[0m\u001b[0;34m)\u001b[0m\u001b[0;34m\u001b[0m\u001b[0;34m\u001b[0m\u001b[0m\n\u001b[1;32m    360\u001b[0m \u001b[0;34m\u001b[0m\u001b[0m\n",
      "\u001b[0;32m~/anaconda3/envs/wave-tf/lib/python3.7/site-packages/tensorflow_core/python/framework/func_graph.py\u001b[0m in \u001b[0;36mwrapper\u001b[0;34m(*args, **kwargs)\u001b[0m\n\u001b[1;32m    903\u001b[0m           \u001b[0;32mexcept\u001b[0m \u001b[0mException\u001b[0m \u001b[0;32mas\u001b[0m \u001b[0me\u001b[0m\u001b[0;34m:\u001b[0m  \u001b[0;31m# pylint:disable=broad-except\u001b[0m\u001b[0;34m\u001b[0m\u001b[0;34m\u001b[0m\u001b[0m\n\u001b[1;32m    904\u001b[0m             \u001b[0;32mif\u001b[0m \u001b[0mhasattr\u001b[0m\u001b[0;34m(\u001b[0m\u001b[0me\u001b[0m\u001b[0;34m,\u001b[0m \u001b[0;34m\"ag_error_metadata\"\u001b[0m\u001b[0;34m)\u001b[0m\u001b[0;34m:\u001b[0m\u001b[0;34m\u001b[0m\u001b[0;34m\u001b[0m\u001b[0m\n\u001b[0;32m--> 905\u001b[0;31m               \u001b[0;32mraise\u001b[0m \u001b[0me\u001b[0m\u001b[0;34m.\u001b[0m\u001b[0mag_error_metadata\u001b[0m\u001b[0;34m.\u001b[0m\u001b[0mto_exception\u001b[0m\u001b[0;34m(\u001b[0m\u001b[0me\u001b[0m\u001b[0;34m)\u001b[0m\u001b[0;34m\u001b[0m\u001b[0;34m\u001b[0m\u001b[0m\n\u001b[0m\u001b[1;32m    906\u001b[0m             \u001b[0;32melse\u001b[0m\u001b[0;34m:\u001b[0m\u001b[0;34m\u001b[0m\u001b[0;34m\u001b[0m\u001b[0m\n\u001b[1;32m    907\u001b[0m               \u001b[0;32mraise\u001b[0m\u001b[0;34m\u001b[0m\u001b[0;34m\u001b[0m\u001b[0m\n",
      "\u001b[0;31mTypeError\u001b[0m: in converted code:\n\n    <ipython-input-35-48d444ee8c72>:12 train_step  *\n        predictions = model(x, ev)\n    /home/li/anaconda3/envs/wave-tf/lib/python3.7/site-packages/tensorflow_core/python/keras/engine/base_layer.py:847 __call__\n        outputs = call_fn(cast_inputs, *args, **kwargs)\n    <ipython-input-25-eac329d5b098>:72 call  *\n        res.append(x[i][0] * box_count(potential[i], x[i][1] * ev[i][0]))\n    <ipython-input-31-c8fb704ceaa2>:20 box_count  *\n        count = tf.nn.max_pool1d(ev-potential, ksize, ksize, padding='SAME') > 0\n    /home/li/anaconda3/envs/wave-tf/lib/python3.7/site-packages/tensorflow_core/python/ops/nn_ops.py:3844 max_pool1d\n        ksize = [1] + _get_sequence(ksize, 1, channel_index, \"ksize\")\n    /home/li/anaconda3/envs/wave-tf/lib/python3.7/site-packages/tensorflow_core/python/ops/nn_ops.py:68 _get_sequence\n        current_n = len(value)\n    /home/li/anaconda3/envs/wave-tf/lib/python3.7/site-packages/tensorflow_core/python/framework/ops.py:741 __len__\n        \"shape information.\".format(self.name))\n\n    TypeError: len is not well defined for symbolic Tensors. (dosnn_11/Cast:0) Please call `x.shape` rather than `len(x)` for shape information.\n"
     ]
    }
   ],
   "source": [
    "compare_models(train_ds, test_ds)"
   ]
  },
  {
   "cell_type": "code",
   "execution_count": null,
   "metadata": {},
   "outputs": [],
   "source": []
  }
 ],
 "metadata": {
  "kernelspec": {
   "display_name": "Python 3",
   "language": "python",
   "name": "python3"
  },
  "language_info": {
   "codemirror_mode": {
    "name": "ipython",
    "version": 3
   },
   "file_extension": ".py",
   "mimetype": "text/x-python",
   "name": "python",
   "nbconvert_exporter": "python",
   "pygments_lexer": "ipython3",
   "version": "3.7.5"
  }
 },
 "nbformat": 4,
 "nbformat_minor": 2
}

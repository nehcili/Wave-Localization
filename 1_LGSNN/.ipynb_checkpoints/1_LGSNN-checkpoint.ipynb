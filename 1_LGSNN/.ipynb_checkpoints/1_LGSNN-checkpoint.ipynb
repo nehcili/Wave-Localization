{
 "cells": [
  {
   "cell_type": "markdown",
   "metadata": {},
   "source": [
    "# Tensorflow Warm Up\n",
    "## 1. Goal\n",
    "The goal of this project is to show case the effectiveness of the landscape function by comparing a simple machine learning architecture (CNN + dense) when trained on\n",
    "1. potential $V$ only, or\n",
    "2. landscape $u$ only, or\n",
    "3. both $u$ and $V$.\n",
    "to predict the lower ground state energy of a Schrodinger's operator. \n",
    "\n",
    "More precisely,\n",
    "- Given a potential $V$ on $L^2(Q_L)$ where $Q_L = [0, L] \\cap \\mathbb{Z}$ with periodic boundary condition\n",
    "- Find the ground state eigenvalue of the disrete Schrodinger Hamiltonian $-\\Delta+V$ where $-\\Delta$ is the discrite Laplacian on $\\mathbb{Z}$.\n",
    "\n",
    "### Architecture\n",
    "- CNN + fully connected NN\n",
    "- implemented by hand as python classes (not using tf.Sequential), to facilitate future upgrades\n",
    "- No optimization such as image augmentation/rotation/translation\n"
   ]
  },
  {
   "cell_type": "markdown",
   "metadata": {},
   "source": [
    "## 2. Setting constants"
   ]
  },
  {
   "cell_type": "code",
   "execution_count": 16,
   "metadata": {},
   "outputs": [],
   "source": [
    "BOXLENGTH = 1000\n",
    "KERNEL_SIZE = 10\n",
    "STRIDES = 10\n",
    "DATA_SIZE = 64\n",
    "BATCH_SIZE = 32\n",
    "EPOCHS = 30\n",
    "V_GEN = lambda x, y : 4.0*np.random.rand(x,y) # random potential: x = batch size, y = boxlength"
   ]
  },
  {
   "cell_type": "markdown",
   "metadata": {},
   "source": [
    "## 3. Import neccessary libraries"
   ]
  },
  {
   "cell_type": "code",
   "execution_count": 6,
   "metadata": {},
   "outputs": [],
   "source": [
    "from __future__ import absolute_import, division, print_function, unicode_literals\n",
    "import numpy as np\n",
    "\n",
    "# tensorflow\n",
    "import tensorflow as tf\n",
    "from tensorflow.keras import layers, Model\n",
    "\n",
    "# eigenvalue solver\n",
    "from petsc4py import PETSc\n",
    "from slepc4py import SLEPc\n",
    "\n",
    "# Plot\n",
    "from matplotlib import pylab"
   ]
  },
  {
   "cell_type": "markdown",
   "metadata": {},
   "source": [
    "## 4. Obtaining training/testing data"
   ]
  },
  {
   "cell_type": "markdown",
   "metadata": {},
   "source": [
    "## Getting the eigenvalues and the landscape function"
   ]
  },
  {
   "cell_type": "code",
   "execution_count": 7,
   "metadata": {},
   "outputs": [],
   "source": [
    "class GS_data_generator():\n",
    "    # self, list of int, method, int/None, int/None, bool\n",
    "    def __init__(self, size, V_gen=None, max_it=None, tol=None, periodic=True):\n",
    "        self.max_it = max_it\n",
    "        self.tol=tol\n",
    "        self.periodic = True\n",
    "        \n",
    "        self.V_gen = V_gen\n",
    "        if V_gen==None:\n",
    "            self.V_gen = np.random.rand\n",
    "            \n",
    "        \n",
    "        if type(size) == int:\n",
    "            self.size = [1,size]\n",
    "        else:\n",
    "            self.size = size\n",
    "            \n",
    "        self.one = PETSc.Vec().createSeq(self.size[1]) \n",
    "        self.one[:] = np.ones(self.size[1])\n",
    "        \n",
    "    # self, method --> PETSc Mat\n",
    "    # Makeing a periodic problem Hamiltonian -\\Delta+V\n",
    "    def makeHamiltonian(self, V):\n",
    "        n = self.size[1]\n",
    "        A = PETSc.Mat().create()\n",
    "        A.setSizes([n, n])\n",
    "        A.setUp()\n",
    "\n",
    "        rstart, rend = A.getOwnershipRange()\n",
    "\n",
    "        # first row\n",
    "        if rstart == 0:\n",
    "            A[0, :2] = [2, -1]\n",
    "            rstart += 1\n",
    "        # last row\n",
    "        if rend == n:\n",
    "            A[n-1, -2:] = [-1, 2]\n",
    "            rend -= 1\n",
    "        # other rows\n",
    "        for i in range(rstart, rend):\n",
    "            A[i, i-1:i+2] = [-1, 2+V[i], -1]\n",
    "        # Periodic condition\n",
    "        if self.periodic:\n",
    "            A[rstart,rend-1] = -1\n",
    "            A[rend-1, rstart] = -1\n",
    "\n",
    "        A.assemble()\n",
    "\n",
    "        return A\n",
    "\n",
    "    # self, PETSc Mat --> gs_ev class\n",
    "    # compute the ground state eigenvalue\n",
    "    # return -1 if numerical solver is divergent\n",
    "    def compute_gs_ev(self, Hamiltonian):\n",
    "        E = SLEPc.EPS()\n",
    "        E.create()\n",
    "\n",
    "        E.setOperators(Hamiltonian)\n",
    "        E.setProblemType(SLEPc.EPS.ProblemType.HEP)\n",
    "        E.setTolerances(tol=self.tol, max_it=self.max_it)\n",
    "        E.setWhichEigenpairs(E.Which.SMALLEST_REAL)\n",
    "\n",
    "        E.solve()\n",
    "\n",
    "        ev = -1\n",
    "        if E.getConverged():\n",
    "            # Create the results vectors\n",
    "            vr, wr = Hamiltonian.getVecs()\n",
    "            vi, wi = Hamiltonian.getVecs()\n",
    "            ev = E.getEigenpair(0, vr, vi)\n",
    "        \n",
    "        \n",
    "        return ev.real\n",
    "    \n",
    "    # self, PETSc.Mat, bool --> PETSc.Vec\n",
    "    # use PETSc.Vec.getArray() to convert result to np.ndarray\n",
    "    def compute_landscape(self, Hamiltonian, show=False):        \n",
    "        # Create solution landscape function u\n",
    "        u = PETSc.Vec().createSeq(self.size[1])\n",
    "        \n",
    "        # Initialize ksp solver.\n",
    "        ksp = PETSc.KSP().create()\n",
    "        ksp.setOperators(Hamiltonian)\n",
    "        \n",
    "        # Solve!\n",
    "        ksp.solve(self.one, u)\n",
    "\n",
    "        # # Use this to plot the solution (should look like a sinusoid).\n",
    "        if show:\n",
    "            pylab.plot(u.getArray())\n",
    "            pylab.show()\n",
    "            \n",
    "        return u   \n",
    "    \n",
    "    \n",
    "    # self, method --> np.ndarray, np.ndarray, np.ndarray\n",
    "    def data_gen(self, V_gen=None):\n",
    "        if V_gen == None:\n",
    "            V_gen = self.V_gen\n",
    "        \n",
    "        #print(self.size)\n",
    "        #print(V_gen)\n",
    "        self.V = V_gen(*self.size)\n",
    "        self.ev = np.empty(self.size[0])\n",
    "        self.u = np.empty(self.size)\n",
    "        \n",
    "        \n",
    "        \n",
    "        for i in range(self.size[0]):\n",
    "            Hamiltonian = self.makeHamiltonian(self.V[i])\n",
    "            self.ev[i] = self.compute_gs_ev(Hamiltonian)\n",
    "            self.u[i] = self.compute_landscape(Hamiltonian).getArray()\n",
    "    \n",
    "            \n",
    "        return self.ev, self.u, self.V"
   ]
  },
  {
   "cell_type": "markdown",
   "metadata": {},
   "source": [
    "### Example Data Generation"
   ]
  },
  {
   "cell_type": "code",
   "execution_count": 8,
   "metadata": {},
   "outputs": [
    {
     "name": "stdout",
     "output_type": "stream",
     "text": [
      "Ground state eigenvalue is: 0.6213673437321735\n"
     ]
    },
    {
     "data": {
      "image/png": "[encoded data removed]",
      "text/plain": [
       "<Figure size 432x288 with 1 Axes>"
      ]
     },
     "metadata": {
      "needs_background": "light"
     },
     "output_type": "display_data"
    }
   ],
   "source": [
    "gs_data = GS_data_generator([2,BOXLENGTH], V_gen=V_GEN)\n",
    "ev, u, V = gs_data.data_gen()\n",
    "print(\"Ground state eigenvalue is:\", ev[0])\n",
    "pylab.plot(V[0])\n",
    "pylab.plot(u[0])\n",
    "pylab.show()"
   ]
  },
  {
   "cell_type": "code",
   "execution_count": 11,
   "metadata": {},
   "outputs": [],
   "source": [
    "# int, int, method --> tf.Tensor, tf.Tensor, tf.Tensor, tf.Tensor\n",
    "# generates:\n",
    "# data_size x boxlength shaped shaped ground state eigenvalues\n",
    "# data_size x boxlength x 1 shaped shaped u\n",
    "# data_size x boxlength x 1 shaped shaped V\n",
    "def _gen_data(data_size=DATA_SIZE, boxlength = BOXLENGTH, V_gen=None):\n",
    "    data_generator = GS_data_generator([data_size, boxlength], V_gen=V_gen)\n",
    "    ev, u, V = data_generator.data_gen()\n",
    "    ev = tf.convert_to_tensor(ev, dtype=ev.dtype)\n",
    "    u = tf.convert_to_tensor(u, dtype=ev.dtype)[..., tf.newaxis]\n",
    "    V = tf.convert_to_tensor(V, dtype=ev.dtype)[..., tf.newaxis]\n",
    "    return ev, u, V, tf.concat([u,V], axis=2)\n",
    "\n",
    "# output is a pair, each of the format: ev, u, V, uV   \n",
    "def gen_data(data_size=DATA_SIZE, boxlength = BOXLENGTH, batch_size=BATCH_SIZE, V_gen=None):\n",
    "    train_ds = _gen_data(data_size=data_size*10, V_gen=V_gen)\n",
    "    test_ds = _gen_data(data_size=data_size, V_gen=V_gen)\n",
    "    \n",
    "    train_ds = tf.data.Dataset.from_tensor_slices(train_ds).shuffle(10*data_size).batch(batch_size)\n",
    "    test_ds = tf.data.Dataset.from_tensor_slices(test_ds).batch(batch_size)\n",
    "    \n",
    "    return train_ds, test_ds"
   ]
  },
  {
   "cell_type": "code",
   "execution_count": 12,
   "metadata": {},
   "outputs": [],
   "source": [
    "# train_ds, test_ds = gen_data(V_gen=V_GEN)"
   ]
  },
  {
   "cell_type": "markdown",
   "metadata": {},
   "source": [
    "## 5. CNN+fc model"
   ]
  },
  {
   "cell_type": "code",
   "execution_count": 13,
   "metadata": {},
   "outputs": [],
   "source": [
    "class GSNN(Model):\n",
    "    def __init__(self, boxlength=BOXLENGTH, kernel_size=KERNEL_SIZE, strides=STRIDES, input_channel=1, name=''):\n",
    "        super(GSNN, self).__init__(name='')\n",
    "        self.name = name\n",
    "        \n",
    "        # input B x 1000 x input_channel -> output B x 100 x 25\n",
    "        self.conv1a = layers.Conv1D(25, kernel_size, strides=strides, input_shape=(None, boxlength, input_channel))\n",
    "        self.bn1a = layers.BatchNormalization()\n",
    "\n",
    "        # input B x 100 x 25 -> output B x 10 x 50 \n",
    "        self.conv1b = layers.Conv1D(50, kernel_size, strides=strides)\n",
    "        self.bn1b = layers.BatchNormalization()\n",
    "\n",
    "        # input B x 10 x 50  -> output B x 1 x 75\n",
    "        self.conv1c = layers.Conv1D(75, kernel_size, strides=strides)\n",
    "        self.bn1c = layers.BatchNormalization()\n",
    "\n",
    "        self.fc1 = layers.Dense(50, activation='tanh')\n",
    "        self.fc2 = layers.Dense(25, activation='tanh')\n",
    "        self.fc3 = layers.Dense(1, activation='softplus')\n",
    "    \n",
    "    def call(self, x, training=False):\n",
    "        # x has size Batch x BOXLENGTH x channel (==1)\n",
    "        \n",
    "        # input B x 1000 x 2 -> output B x 100 x 25\n",
    "        x = self.conv1a(x)\n",
    "        x = self.bn1a(x)\n",
    "        x = tf.nn.relu(x)\n",
    "\n",
    "        # input B x 100 x 25 -> output B x 10 x 50 \n",
    "        x = self.conv1b(x)\n",
    "        x = self.bn1b(x)\n",
    "        x = tf.nn.relu(x)\n",
    "\n",
    "        # input B x 10 x 50  -> output B x 1 x 75\n",
    "        x = self.conv1c(x)\n",
    "        x = self.bn1c(x)\n",
    "        x = tf.nn.relu(x)\n",
    "\n",
    "        # input B x 1 x 75 x 1 -> B x 75\n",
    "        x = tf.squeeze(x)\n",
    "        #print(x.shape)\n",
    "        x = self.fc1(x)\n",
    "        x = self.fc2(x)\n",
    "        x = self.fc3(x)\n",
    "        \n",
    "        return x\n",
    "        "
   ]
  },
  {
   "cell_type": "markdown",
   "metadata": {},
   "source": [
    "### Example 1 forward pass"
   ]
  },
  {
   "cell_type": "code",
   "execution_count": 14,
   "metadata": {},
   "outputs": [
    {
     "name": "stdout",
     "output_type": "stream",
     "text": [
      "WARNING:tensorflow:Layer conv1d is casting an input tensor from dtype float64 to the layer's dtype of float32, which is new behavior in TensorFlow 2.  The layer has dtype float32 because it's dtype defaults to floatx.\n",
      "\n",
      "If you intended to run this layer in float32, you can safely ignore this warning. If in doubt, this warning is likely only an issue if you are porting a TensorFlow 1.X model to TensorFlow 2.\n",
      "\n",
      "To change all layers to have dtype float64 by default, call `tf.keras.backend.set_floatx('float64')`. To change just this layer, pass dtype='float64' to the layer constructor. If you are the author of this layer, you can disable autocasting by passing autocast=False to the base Layer constructor.\n",
      "\n"
     ]
    },
    {
     "data": {
      "text/plain": [
       "<tf.Tensor: id=379, shape=(2, 1), dtype=float32, numpy=\n",
       "array([[0.7083008 ],\n",
       "       [0.71403575]], dtype=float32)>"
      ]
     },
     "execution_count": 14,
     "metadata": {},
     "output_type": "execute_result"
    }
   ],
   "source": [
    "gsnn0 = GSNN()\n",
    "x = tf.concat([u[..., np.newaxis], V[..., np.newaxis]], axis=2)\n",
    "gsnn0.call(x)"
   ]
  },
  {
   "cell_type": "markdown",
   "metadata": {},
   "source": [
    "## Training"
   ]
  },
  {
   "cell_type": "code",
   "execution_count": 12,
   "metadata": {},
   "outputs": [],
   "source": [
    "def train(model, train_ds=None, test_ds=None, epochs=EPOCHS):\n",
    "    loss_object = tf.keras.losses.MeanAbsolutePercentageError()\n",
    "    optimizer = tf.keras.optimizers.Adam()\n",
    "    \n",
    "    train_loss = tf.keras.metrics.Mean(name='train_loss')\n",
    "    test_loss = tf.keras.metrics.Mean(name='test_loss')\n",
    "    \n",
    "    @tf.function\n",
    "    def train_step(x, target):\n",
    "        with tf.GradientTape() as tape:\n",
    "            predictions = model(x)\n",
    "            loss = loss_object(target, predictions)\n",
    "            gradients = tape.gradient(loss, model.trainable_variables)\n",
    "            optimizer.apply_gradients(zip(gradients, model.trainable_variables))\n",
    "\n",
    "            train_loss(loss)\n",
    "            \n",
    "            \n",
    "    @tf.function\n",
    "    def test_step(images, labels):\n",
    "        predictions = model(images)\n",
    "        t_loss = loss_object(labels, predictions)\n",
    "\n",
    "        test_loss(t_loss)\n",
    "    \n",
    "    \n",
    "\n",
    "    for epoch in range(epochs):\n",
    "        # Reset the metrics at the start of the next epoch\n",
    "        train_loss.reset_states()\n",
    "        test_loss.reset_states()\n",
    "\n",
    "        for train_V, train_ev in train_ds:\n",
    "            train_step(train_V, train_ev)\n",
    "\n",
    "        for test_V, test_ev in test_ds:\n",
    "            test_step(test_V, test_ev)\n",
    "\n",
    "        template = 'Epoch {}, Loss: {}, Test Loss: {}'\n",
    "        print(template.format(epoch+1,\n",
    "                            train_loss.result(),\n",
    "                            test_loss.result()))"
   ]
  },
  {
   "cell_type": "code",
   "execution_count": 15,
   "metadata": {},
   "outputs": [],
   "source": [
    "def compare_models(V_gen=V_GEN, epochs=EPOCHS):\n",
    "    # generating data sets\n",
    "    train_ds, test_ds = gen_data(V_gen=V_gen)\n",
    "    \n",
    "    # defining models\n",
    "    models = []\n",
    "    models.append(GSNN(input_channel=1, name='V based'))\n",
    "    models.append(GSNN(input_channel=1, name='u based'))\n",
    "    models.append(GSNN(input_channel=2, name='uV based'))\n",
    "    \n",
    "    # training\n",
    "    for i, model in enumerate(models):\n",
    "        print(\"\")\n",
    "        print(\"Starting training for {} model\".format(model.name))\n",
    "        print(\"\")\n",
    "        \n",
    "        train(model, train_ds=(train_ds[0], trian_ds[i+1]), test_ds=(test_ds[0], test_ds[i+1]), epochs=epochs)\n",
    "    print(\"Training finished\\n\")\n",
    "    \n",
    "    # displaying some numerical values\n",
    "    sample = _gen_data(10, V_gen=V_gen)\n",
    "    print(\"\")\n",
    "    print(\"Displaying numerical values for comparison\")\n",
    "    print(\"\")\n",
    "    print(\"True eigenvalues:\")\n",
    "    print(sample[0])\n",
    "    \n",
    "    \n",
    "    pred = []\n",
    "    for i in range(3):\n",
    "        pred.append(gsnn.call(sample[i+1]))\n",
    "        print(\"\")\n",
    "        print(\"Results from {} GSNN\".format(model[i+1]))\n",
    "        print(pred[i])\n",
    "    "
   ]
  },
  {
   "cell_type": "code",
   "execution_count": null,
   "metadata": {},
   "outputs": [],
   "source": []
  }
 ],
 "metadata": {
  "kernelspec": {
   "display_name": "Python 3",
   "language": "python",
   "name": "python3"
  },
  "language_info": {
   "codemirror_mode": {
    "name": "ipython",
    "version": 3
   },
   "file_extension": ".py",
   "mimetype": "text/x-python",
   "name": "python",
   "nbconvert_exporter": "python",
   "pygments_lexer": "ipython3",
   "version": "3.7.5"
  }
 },
 "nbformat": 4,
 "nbformat_minor": 2
}
